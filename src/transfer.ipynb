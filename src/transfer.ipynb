{
 "cells": [
  {
   "cell_type": "markdown",
   "metadata": {
    "pycharm": {
     "name": "#%% md\n"
    }
   },
   "source": [
    "# Problems:\n",
    "* Decimal is unsupported -> conversion to float\n",
    "* No constraints besides the unique constraints -> all checks should be performed on backend"
   ]
  },
  {
   "cell_type": "code",
   "execution_count": 11,
   "metadata": {
    "collapsed": true,
    "pycharm": {
     "is_executing": false
    }
   },
   "outputs": [],
   "source": [
    "from neo4j import GraphDatabase, DirectDriver\n",
    "\n",
    "NEO_LOGIN = \"neo4j\"\n",
    "NEO_PASSWORD = \"bitnami\"\n",
    "\n",
    "uri = \"bolt://localhost:7687\"\n",
    "driver = GraphDatabase.driver(uri, auth=(NEO_LOGIN, NEO_PASSWORD))\n",
    "\n",
    "\n"
   ]
  },
  {
   "cell_type": "code",
   "execution_count": 2,
   "metadata": {
    "pycharm": {
     "is_executing": false,
     "name": "#%%\n"
    }
   },
   "outputs": [],
   "source": [
    "import psycopg2\n",
    "\n",
    "PG_LOGIN = \"DMD2user\"\n",
    "PG_PASS = \"DMD2pgPass\"\n",
    "PG_DB = \"dvdrental\"\n",
    "\n",
    "con = psycopg2.connect(database=PG_DB, user=PG_LOGIN,\n",
    "                       password=PG_PASS, host=\"localhost\", port=\"5432\")\n",
    "\n",
    "cursor = con.cursor()"
   ]
  },
  {
   "cell_type": "code",
   "execution_count": 2,
   "outputs": [],
   "source": [
    "cursor.execute(\"alter table store rename column manager_staff_id to staff_id\")\n",
    "con.commit()"
   ],
   "metadata": {
    "collapsed": false,
    "pycharm": {
     "name": "#%%\n",
     "is_executing": false
    }
   }
  },
  {
   "cell_type": "code",
   "execution_count": 13,
   "metadata": {
    "pycharm": {
     "is_executing": false,
     "name": "#%%\n"
    }
   },
   "outputs": [],
   "source": [
    "from typing import List, Tuple, Optional\n",
    "from decimal import Decimal\n",
    "\n",
    "steps = 100\n",
    "current_step = 1\n",
    "\n",
    "def report(obj_name: str):\n",
    "    global steps, current_step\n",
    "    print(f\"{obj_name} done: {current_step}/{steps}\")\n",
    "    current_step += 1\n",
    "\n",
    "def make_label(s:str) -> str:\n",
    "        return s.capitalize()\n",
    "    \n",
    "def make_var(s:str) -> str:\n",
    "    return s.lower()\n",
    "\n",
    "def fix_arg_type(arg):\n",
    "    if type(arg) == Decimal:\n",
    "        return float(arg)\n",
    "    else:\n",
    "        return arg\n",
    "\n",
    "def transfer_table(driver: DirectDriver, cursor, tablename: str, *args, \n",
    "                   relationships: Optional[List[Tuple[str,str,str]]] = None,\n",
    "                   indices:Optional[Tuple[str]] = None):\n",
    "    label = make_label(tablename)\n",
    "    var = make_var(tablename)\n",
    "    insert_statement = f\"CREATE ({var}: {label} {{ {', '.join([f'{prop}: ${prop}' for prop in args])} }})\"\n",
    "    sql_query = f\"select {', '.join(args)} from {tablename}\"\n",
    "    unique = f\"CREATE CONSTRAINT ON ({var}: {label}) ASSERT {var}.{tablename.lower()}_id IS UNIQUE\"\n",
    "\n",
    "    relation = \"MATCH ({var_from}:{label_from}), ({var_to}:{label_to}) WHERE \" \\\n",
    "               \"{var_from}.{table_from}_id = ${table_from}_id  AND {var_to}.{table_to}_id = ${table_to}_id \" \\\n",
    "               \"CREATE ({var_from}) - [r:{relation_name}] -> ({var_to})\" \n",
    "    \n",
    "    remove_unused_id =\"MATCH (n:{label_from})\" \\\n",
    "                      \"REMOVE n.{table_to}_id\"\n",
    "    \n",
    "    cursor.execute(sql_query)\n",
    "    with driver.session() as session:\n",
    "        tx = session.begin_transaction()\n",
    "        \n",
    "        for row in cursor.fetchall():\n",
    "            data = dict(zip(args, map(fix_arg_type, row)))\n",
    "            tx.run(insert_statement, **data)\n",
    "            \n",
    "            if relationships is not None:\n",
    "                for relationship in relationships:\n",
    "                    tx.run(relation.format(\n",
    "                        table_from=relationship[0], table_to=relationship[1],\n",
    "                        var_from=make_var(relationship[0]), var_to=make_var(relationship[1]),\n",
    "                        label_from=make_label(relationship[0]), label_to=make_label(relationship[1]),\n",
    "                        relation_name=relationship[2]\n",
    "                    ), **data)\n",
    "                    \n",
    "        if relationships is not None:\n",
    "            for relationship in relationships:\n",
    "                tx.run(remove_unused_id.format(label_from=make_label(relationship[0]),\n",
    "                                               table_to=relationship[1]\n",
    "                                               ))\n",
    "        tx.sync()\n",
    "        tx.commit()\n",
    "        session.run(unique)\n",
    "    \n",
    "    report(tablename)\n",
    "    if relationships is not None:\n",
    "        for relationship in relationships:\n",
    "            report(f\"{relationship[0]} -> {relationship[1]}\")\n",
    "    \n",
    "def transfer_many2many_rel(driver: DirectDriver, cursor, table_name: str, table_from:str, table_to: str, \n",
    "                           relation_name:str, *args):\n",
    "    relation = \"MATCH ({var_from}:{label_from}), ({var_to}:{label_to}) WHERE \" \\\n",
    "               \"{var_from}.{table_from}_id = ${table_from}_id  AND {var_to}.{table_to}_id = ${table_to}_id \" \\\n",
    "               \"CREATE ({var_from}) - [r:{relation_name}] -> ({var_to})\".format(\n",
    "                table_from=table_from, table_to=table_to,\n",
    "                var_from=make_var(table_from), var_to=make_var(table_to),\n",
    "                label_from=make_label(table_from), label_to=make_label(table_to),\n",
    "                relation_name=relation_name\n",
    "               )\n",
    "    sql_query = f\"select {', '.join(args)} from {table_name}\"\n",
    "    cursor.execute(sql_query)\n",
    "    with driver.session() as session:\n",
    "        tx = session.begin_transaction()\n",
    "        for row in cursor.fetchall():\n",
    "            data = dict(zip(args, map(fix_arg_type, row)))\n",
    "            tx.run(relation, **data)\n",
    "        tx.sync()\n",
    "        tx.commit()\n",
    "    report(f\"{table_from} -> {table_to}\")\n",
    "\n",
    "def create_index(driver: DirectDriver, tablename:str, *fields:str):\n",
    "    with driver.session() as session:\n",
    "        session.run(f\"CREATE INDEX ON :{make_label(tablename)} \"\n",
    "                    f\"({', '.join(fields)})\")"
   ]
  },
  {
   "cell_type": "markdown",
   "metadata": {
    "pycharm": {
     "name": "#%% md\n"
    }
   },
   "source": [
    "Connected to db\n",
    "# Start transfer\n",
    "## Category"
   ]
  },
  {
   "cell_type": "code",
   "execution_count": 6,
   "metadata": {
    "pycharm": {
     "is_executing": false,
     "name": "#%%\n"
    }
   },
   "outputs": [
    {
     "name": "stdout",
     "text": [
      "category done: 1/100\n"
     ],
     "output_type": "stream"
    }
   ],
   "source": [
    "transfer_table(driver, cursor, \"category\", \"category_id\", \"name\", \"last_update\")"
   ]
  },
  {
   "cell_type": "markdown",
   "metadata": {},
   "source": [
    "## Language"
   ]
  },
  {
   "cell_type": "code",
   "execution_count": 7,
   "metadata": {
    "pycharm": {
     "is_executing": false,
     "name": "#%%\n"
    }
   },
   "outputs": [
    {
     "name": "stdout",
     "text": [
      "language done: 2/100\n"
     ],
     "output_type": "stream"
    }
   ],
   "source": [
    "transfer_table(driver, cursor, \"language\", \"language_id\", \"name\", \"last_update\")"
   ]
  },
  {
   "cell_type": "markdown",
   "metadata": {
    "pycharm": {
     "is_executing": false,
     "name": "#%% md\n"
    }
   },
   "source": [
    "## Film + Film-language connection"
   ]
  },
  {
   "cell_type": "code",
   "execution_count": 11,
   "metadata": {
    "pycharm": {
     "is_executing": false,
     "name": "#%%\n"
    }
   },
   "outputs": [
    {
     "name": "stdout",
     "text": [
      "film done: 1/100\n",
      "film -> language done: 2/100\n"
     ],
     "output_type": "stream"
    }
   ],
   "source": [
    "transfer_table(driver, cursor, \"film\", \"film_id\", \"title\", \"description\", \"release_year\", \"rental_duration\", \"rental_rate\", \"length\", \n",
    "\"replacement_cost\", \"rating\", \"last_update\", \"special_features\", \"fulltext\", \"language_id\",\n",
    "               relationships=[(\"film\", \"language\", \"IN_LANGUAGE\")])"
   ]
  },
  {
   "cell_type": "markdown",
   "metadata": {},
   "source": [
    "## Category-Film"
   ]
  },
  {
   "cell_type": "code",
   "execution_count": 14,
   "metadata": {
    "pycharm": {
     "is_executing": false,
     "name": "#%%\n"
    }
   },
   "outputs": [
    {
     "name": "stdout",
     "text": [
      "film -> category done: 1/100\n"
     ],
     "output_type": "stream"
    }
   ],
   "source": [
    "transfer_many2many_rel(driver, cursor, \"film_category\", \"film\", \"category\", \"IN_CATEGORY\", \n",
    "                       \"film_id\", \"category_id\", \"last_update\")"
   ]
  },
  {
   "cell_type": "markdown",
   "metadata": {},
   "source": [
    "## Actor"
   ]
  },
  {
   "cell_type": "code",
   "execution_count": 15,
   "metadata": {
    "pycharm": {
     "is_executing": false,
     "name": "#%%\n"
    }
   },
   "outputs": [
    {
     "name": "stdout",
     "text": [
      "actor done: 2/100\n"
     ],
     "output_type": "stream"
    }
   ],
   "source": [
    "transfer_table(driver, cursor, \"actor\", \n",
    "               \"actor_id\", \"first_name\", \"last_name\", \"last_update\")"
   ]
  },
  {
   "cell_type": "markdown",
   "metadata": {},
   "source": [
    "## Actor->Film connection"
   ]
  },
  {
   "cell_type": "code",
   "execution_count": 16,
   "metadata": {
    "pycharm": {
     "is_executing": false,
     "name": "#%%\n"
    }
   },
   "outputs": [
    {
     "name": "stdout",
     "text": [
      "actor -> film done: 3/100\n"
     ],
     "output_type": "stream"
    }
   ],
   "source": [
    "transfer_many2many_rel(driver, cursor, \"film_actor\", \"actor\", \"film\", \"FILMED_IN\", \n",
    "                       \"actor_id\", \"film_id\", \"last_update\")"
   ]
  },
  {
   "cell_type": "markdown",
   "metadata": {
    "pycharm": {
     "name": "#%% md\n"
    }
   },
   "source": [
    "## Inventory + film<-inventory"
   ]
  },
  {
   "cell_type": "code",
   "execution_count": 17,
   "metadata": {
    "pycharm": {
     "is_executing": false,
     "name": "#%%\n"
    }
   },
   "outputs": [
    {
     "name": "stdout",
     "text": [
      "inventory done: 4/100\n",
      "inventory -> film done: 5/100\n"
     ],
     "output_type": "stream"
    }
   ],
   "source": [
    "transfer_table(driver, cursor, \"inventory\", \n",
    "               \"inventory_id\", \"film_id\", \"store_id\", \"last_update\",\n",
    "               relationships=[(\"inventory\", \"film\", \"RENTS_FILM\")])"
   ]
  },
  {
   "cell_type": "markdown",
   "metadata": {
    "pycharm": {
     "name": "#%% md\n"
    }
   },
   "source": [
    "## Country"
   ]
  },
  {
   "cell_type": "code",
   "execution_count": 18,
   "metadata": {
    "pycharm": {
     "name": "#%%\n",
     "is_executing": false
    }
   },
   "outputs": [
    {
     "name": "stdout",
     "text": [
      "country done: 6/100\n"
     ],
     "output_type": "stream"
    }
   ],
   "source": [
    "transfer_table(driver, cursor, \"country\", \"country_id\", \"country\", \"last_update\")\n"
   ]
  },
  {
   "cell_type": "markdown",
   "source": [
    "## City"
   ],
   "metadata": {
    "collapsed": false,
    "pycharm": {
     "name": "#%% md\n"
    }
   }
  },
  {
   "cell_type": "code",
   "execution_count": 33,
   "outputs": [
    {
     "name": "stdout",
     "text": [
      "city done: 1/100\n",
      "city -> country done: 2/100\n"
     ],
     "output_type": "stream"
    }
   ],
   "source": [
    "transfer_table(driver, cursor, \"city\",  \n",
    "               \"city_id\", \"city\", \"country_id\", \"last_update\",\n",
    "               relationships=[(\"city\", \"country\", \"SITUATED_IN\")])"
   ],
   "metadata": {
    "collapsed": false,
    "pycharm": {
     "name": "#%%\n",
     "is_executing": false
    }
   }
  },
  {
   "cell_type": "markdown",
   "source": [
    "## Address"
   ],
   "metadata": {
    "collapsed": false,
    "pycharm": {
     "name": "#%% md\n"
    }
   }
  },
  {
   "cell_type": "code",
   "execution_count": 34,
   "outputs": [
    {
     "name": "stdout",
     "text": [
      "address done: 3/100\n",
      "address -> city done: 4/100\n"
     ],
     "output_type": "stream"
    }
   ],
   "source": [
    "transfer_table(driver, cursor, \"address\",\n",
    "               \"address_id\", \"address\", \"address2\", \"district\", \"city_id\", \"postal_code\", \"phone\", \"last_update\",\n",
    "               relationships=[(\"address\", \"city\", \"SITUATED_IN\")])"
   ],
   "metadata": {
    "collapsed": false,
    "pycharm": {
     "name": "#%%\n",
     "is_executing": false
    }
   }
  },
  {
   "cell_type": "markdown",
   "source": [
    "## Customer"
   ],
   "metadata": {
    "collapsed": false,
    "pycharm": {
     "name": "#%% md\n"
    }
   }
  },
  {
   "cell_type": "code",
   "execution_count": 35,
   "outputs": [
    {
     "name": "stdout",
     "text": [
      "customer done: 5/100\n",
      "customer -> address done: 6/100\n"
     ],
     "output_type": "stream"
    }
   ],
   "source": [
    "transfer_table(driver, cursor, \"customer\",\n",
    "               \"customer_id\", \"store_id\", \"first_name\", \"last_name\", \"email\", \"address_id\", \"activebool\",\n",
    "               \"create_date\", \"last_update\", \"active\",\n",
    "               relationships=[(\"customer\", \"address\", \"LIVES_AT\")])"
   ],
   "metadata": {
    "collapsed": false,
    "pycharm": {
     "name": "#%%\n",
     "is_executing": false
    }
   }
  },
  {
   "cell_type": "markdown",
   "source": [
    "## Staff"
   ],
   "metadata": {
    "collapsed": false,
    "pycharm": {
     "name": "#%% md\n"
    }
   }
  },
  {
   "cell_type": "code",
   "execution_count": 39,
   "outputs": [
    {
     "name": "stdout",
     "text": [
      "staff done: 1/100\n",
      "staff -> address done: 2/100\n"
     ],
     "output_type": "stream"
    }
   ],
   "source": [
    "transfer_table(driver, cursor, \"staff\",\n",
    "               \"staff_id\", \"first_name\", \"last_name\", \"address_id\", \"email\", \"store_id\", \"active\",\n",
    "               \"username\", \"password\", \"last_update\",\n",
    "               relationships=[(\"staff\", \"address\", \"LIVES_AT\")])"
   ],
   "metadata": {
    "collapsed": false,
    "pycharm": {
     "name": "#%%\n",
     "is_executing": false
    }
   }
  },
  {
   "cell_type": "markdown",
   "source": [
    "## Store"
   ],
   "metadata": {
    "collapsed": false,
    "pycharm": {
     "name": "#%% md\n"
    }
   }
  },
  {
   "cell_type": "code",
   "execution_count": 4,
   "outputs": [
    {
     "name": "stdout",
     "text": [
      "store done: 1/100\n",
      "store -> staff done: 2/100\n",
      "store -> address done: 3/100\n"
     ],
     "output_type": "stream"
    }
   ],
   "source": [
    "transfer_table(driver, cursor, \"store\", \n",
    "               \"store_id\", \"staff_id\", \"address_id\", \"last_update\",\n",
    "               relationships=[(\"store\", \"staff\", \"MANAGED_BY\"), (\"store\", \"address\", \"LOCATED_AT\")])\n",
    "\n",
    "cursor.execute(\"alter table store rename column staff_id to manager_staff_id\")\n",
    "con.commit()"
   ],
   "metadata": {
    "collapsed": false,
    "pycharm": {
     "name": "#%%\n",
     "is_executing": false
    }
   }
  },
  {
   "cell_type": "markdown",
   "source": [
    "## Rental\n",
    "Very long step"
   ],
   "metadata": {
    "collapsed": false,
    "pycharm": {
     "name": "#%% md\n"
    }
   }
  },
  {
   "cell_type": "code",
   "execution_count": 6,
   "outputs": [
    {
     "name": "stdout",
     "text": [
      "rental done: 4/100\n",
      "rental -> inventory done: 5/100\n",
      "rental -> customer done: 6/100\n",
      "rental -> staff done: 7/100\n"
     ],
     "output_type": "stream"
    }
   ],
   "source": [
    "transfer_table(driver, cursor, \"rental\",\n",
    "               \"rental_id\", \"rental_date\", \"inventory_id\", \"customer_id\", \"return_date\", \"staff_id\", \"last_update\",\n",
    "               relationships=[(\"rental\", \"inventory\", \"RENTS\"), \n",
    "                              (\"rental\", \"customer\", \"RENTED_TO\"),\n",
    "                              (\"rental\", \"staff\", \"RENTED_BY\")])"
   ],
   "metadata": {
    "collapsed": false,
    "pycharm": {
     "name": "#%%\n",
     "is_executing": false
    }
   }
  },
  {
   "cell_type": "markdown",
   "source": [
    "## Payment\n",
    "Also long step"
   ],
   "metadata": {
    "collapsed": false,
    "pycharm": {
     "name": "#%% md\n"
    }
   }
  },
  {
   "cell_type": "code",
   "execution_count": 7,
   "outputs": [
    {
     "name": "stdout",
     "text": [
      "payment done: 8/100\n",
      "payment -> customer done: 9/100\n",
      "payment -> staff done: 10/100\n",
      "payment -> rental done: 11/100\n"
     ],
     "output_type": "stream"
    }
   ],
   "source": [
    "transfer_table(driver, cursor, \"payment\",\n",
    "               \"payment_id\", \"customer_id\", \"staff_id\", \"rental_id\", \"amount\", \"payment_date\",\n",
    "               relationships=[(\"payment\", \"customer\", \"PAID_BY\"), \n",
    "                              (\"payment\", \"staff\", \"ACCEPTED_BY\"),\n",
    "                              (\"payment\", \"rental\", \"PAID_FOR\")])"
   ],
   "metadata": {
    "collapsed": false,
    "pycharm": {
     "name": "#%%\n",
     "is_executing": false
    }
   }
  }
 ],
 "metadata": {
  "kernelspec": {
   "display_name": "Python 3",
   "language": "python",
   "name": "python3"
  },
  "language_info": {
   "codemirror_mode": {
    "name": "ipython",
    "version": 3
   },
   "file_extension": ".py",
   "mimetype": "text/x-python",
   "name": "python",
   "nbconvert_exporter": "python",
   "pygments_lexer": "ipython3",
   "version": "3.7.6"
  },
  "pycharm": {
   "stem_cell": {
    "cell_type": "raw",
    "source": [],
    "metadata": {
     "collapsed": false
    }
   }
  }
 },
 "nbformat": 4,
 "nbformat_minor": 1
}