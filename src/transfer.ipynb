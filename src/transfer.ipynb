{
 "cells": [
  {
   "cell_type": "markdown",
   "source": [
    "# Problems:\n",
    "* Decimal is unsupported -> conversion to float\n",
    "* No constraints besides the unique constraints -> all checks should be performed on backend"
   ],
   "metadata": {
    "collapsed": false
   }
  },
  {
   "cell_type": "code",
   "execution_count": 1,
   "outputs": [],
   "source": [
    "from neo4j import GraphDatabase\n",
    "from neo4j.exceptions import ClientError\n",
    "\n",
    "import psycopg2\n",
    "\n",
    "from openpyxl import Workbook\n",
    "from openpyxl.styles import Alignment\n",
    "\n",
    "import tabulate\n",
    "\n",
    "from time import time\n",
    "from typing import List, Tuple, Optional"
   ],
   "metadata": {
    "collapsed": false,
    "pycharm": {
     "name": "#%%\n",
     "is_executing": false
    }
   }
  },
  {
   "cell_type": "code",
   "execution_count": 2,
   "outputs": [],
   "source": [
    "NEO_LOGIN = \"neo4j\"\n",
    "NEO_PASSWORD = \"bitnami\"\n",
    "\n",
    "uri = \"bolt://localhost:7687\"\n",
    "driver = GraphDatabase.driver(uri, auth=(NEO_LOGIN, NEO_PASSWORD))"
   ],
   "metadata": {
    "collapsed": false,
    "pycharm": {
     "name": "#%%\n",
     "is_executing": false
    }
   }
  },
  {
   "cell_type": "code",
   "execution_count": 18,
   "outputs": [],
   "source": [
    "PG_LOGIN = \"DMD2user\"\n",
    "PG_PASS = \"DMD2pgPass\"\n",
    "PG_DB = \"dvdrental\"\n",
    "\n",
    "conn = psycopg2.connect(database=PG_DB, user=PG_LOGIN,\n",
    "                       password=PG_PASS, host=\"localhost\", port=\"5432\")\n",
    "\n",
    "cursor = conn.cursor()"
   ],
   "metadata": {
    "collapsed": false,
    "pycharm": {
     "name": "#%%\n",
     "is_executing": false
    }
   }
  },
  {
   "cell_type": "code",
   "execution_count": 24,
   "outputs": [
    {
     "name": "stdout",
     "text": [
      "1/42 done\n",
      "2/42 done\n",
      "3/42 done\n",
      "4/42 done\n",
      "5/42 done\n",
      "6/42 done\n",
      "7/42 done\n",
      "8/42 done\n",
      "9/42 done\n",
      "10/42 done\n",
      "11/42 done\n",
      "12/42 done\n",
      "13/42 done\n",
      "14/42 done\n",
      "15/42 done\n",
      "16/42 done\n",
      "17/42 done\n",
      "18/42 done\n",
      "19/42 done\n",
      "20/42 done\n",
      "21/42 done\n",
      "22/42 done\n",
      "23/42 done\n",
      "24/42 done\n",
      "25/42 done\n",
      "26/42 done\n",
      "27/42 done\n",
      "28/42 done\n",
      "29/42 done\n",
      "30/42 done\n",
      "31/42 done\n",
      "32/42 done\n",
      "33/42 done\n",
      "34/42 done\n",
      "35/42 done\n",
      "36/42 done\n",
      "37/42 done\n",
      "38/42 done\n",
      "39/42 done\n",
      "40/42 done\n",
      "41/42 done\n",
      "42/42 done\n",
      "Time elapsed: 13.10915756225586 seconds\n"
     ],
     "output_type": "stream"
    }
   ],
   "source": [
    "steps = 42\n",
    "current_step = 1\n",
    "\n",
    "def report():\n",
    "    global steps, current_step\n",
    "    print(f\"{current_step}/{steps} done\")\n",
    "    current_step += 1\n",
    "\n",
    "\n",
    "def proper_type(column_name:str, column_type:str) -> str:\n",
    "    if column_type in [\"integer\", \"int\", \"smallint\", \"bigint\"]:\n",
    "        return f\"toInteger(row.{column_name})\"\n",
    "    elif column_type in [\"numeric\", \"float\", \"decimal\"]:\n",
    "        return f\"toFloat(row.{column_name})\"\n",
    "    elif column_type in [\"boolean\"]:\n",
    "        return f\"toBoolean(row.{column_name})\"\n",
    "    elif column_type in [\"date\"]:\n",
    "        # return f'date(datetime({{epochmillis:apoc.date.parse(\"row.{column_name}\", \"s\", \"yyyy-MM-dd\")}}))'\n",
    "        return f'apoc.date.parse(row.{column_name}, \\'s\\', \"yyyy-MM-dd\")'\n",
    "    elif column_type.startswith(\"timestamp\"):\n",
    "        # return f\"datetime({{epochmillis:toInteger(apoc.date.parse(row.{column_name}))}})\"\n",
    "        return f\"apoc.date.parse(row.{column_name})\"\n",
    "    else:\n",
    "        return f\"row.{column_name}\"\n",
    "\n",
    "def print_unique_constraint(table:str) ->str:\n",
    "    return f\"CREATE CONSTRAINT ON ({table}:{table.capitalize()}) ASSERT {table}.{table}_id IS UNIQUE\"\n",
    "\n",
    "def print_transfer(table_name:str, with_index=True) -> Tuple[str, str]:\n",
    "    export = f\"copy {table_name} to '/tmp/{table_name}.csv' DELIMITER ',' CSV HEADER;\"\n",
    "    cursor.execute(export)\n",
    "    import_statement = \"USING PERIODIC COMMIT\\n\" \\\n",
    "                       f\"LOAD CSV WITH HEADERS FROM 'file:/{table_name}.csv' AS row\\n\" \\\n",
    "                       f\"MERGE ({table_name.lower()}: {table_name.capitalize()} {{{table_name.lower()}_id:toInteger(row.{table_name.lower()}_id)}})\\n\" \\\n",
    "                       \"\\tON CREATE SET\\n\"\n",
    "\n",
    "    cursor.execute(\"select column_name, data_type from INFORMATION_SCHEMA.COLUMNS where table_name = %s ;\", (table_name,))\n",
    "    \n",
    "    props = []\n",
    "    for column in cursor.fetchall():\n",
    "        column_name, column_type = column\n",
    "        if column_name.endswith(\"_id\"):\n",
    "            continue\n",
    "        props.append(f\"{table_name}.{column_name} = {proper_type(column_name, column_type)}\")\n",
    "    \n",
    "    return print_unique_constraint(table_name), import_statement + \"\\t\\t{data};\".format(data=\",\\n\\t\\t\".join(props))\n",
    "\n",
    "def many2many(table_name:str, from_table:str, to_table:str, rel_name:str) -> str:\n",
    "    export = f\"copy {table_name} to '/tmp/{table_name}.csv' DELIMITER ',' CSV HEADER;\"\n",
    "    cursor.execute(export)\n",
    "    cursor.execute(\"select column_name, data_type from INFORMATION_SCHEMA.COLUMNS where table_name = %s ;\", (table_name,))\n",
    "    \n",
    "    props = []\n",
    "    for column in cursor.fetchall():\n",
    "        column_name, column_type = column\n",
    "        if column_name.endswith(\"_id\"):\n",
    "            continue\n",
    "        props.append(f\"{column_name}: {proper_type(column_name, column_type)}\")\n",
    "        \n",
    "    import_statement = \"USING PERIODIC COMMIT\\n\" \\\n",
    "                       f\"LOAD CSV WITH HEADERS FROM 'file:/{table_name}.csv' AS row\\n\" \\\n",
    "                       f\"MATCH ( {from_table} :{from_table.capitalize()} {{ {from_table}_id: {proper_type(f'{from_table}_id', 'int')} }})\\n\" \\\n",
    "                       f\"MATCH ( {to_table}   :{to_table.capitalize()} {{ {to_table}_id: {proper_type(f'{to_table}_id', 'int')} }})\\n\" \\\n",
    "                       f\"MERGE ( {from_table}) - [:{rel_name.upper()}{{ {','.join(props)} }}] -> ({to_table});\"\n",
    "    return import_statement\n",
    "            \n",
    "def transfer_relation(table_name:str, to_table:str, rel_name:str, \n",
    "                      last_update_to_rel: bool = True, fk:Optional[str] = None) -> str:\n",
    "    if fk is None:\n",
    "        fk = f\"{to_table}_id\"\n",
    "    export = f\"copy (select {table_name}_id, {fk} as {to_table}_id \" \\\n",
    "             f\"{', last_update' if last_update_to_rel else ''}\" \\\n",
    "             f\" from {table_name}) to '/tmp/{table_name}_{to_table}_rel.csv' DELIMITER ',' CSV HEADER;\"\n",
    "    cursor.execute(export)\n",
    "    \n",
    "    props = []\n",
    "    if last_update_to_rel:\n",
    "        props.append(f\"last_update: {proper_type('last_update', 'timestamp')}\")\n",
    "    \n",
    "    import_statement = \"USING PERIODIC COMMIT\\n\" \\\n",
    "                       f\"LOAD CSV WITH HEADERS FROM 'file:/{table_name}_{to_table}_rel.csv' AS row\\n\" \\\n",
    "                       f\"MATCH ( {table_name} :{table_name.capitalize()} {{ {table_name}_id: {proper_type(f'{table_name}_id', 'int')} }})\\n\" \\\n",
    "                       f\"MATCH ( {to_table}   :{to_table.capitalize()} {{ {to_table}_id: {proper_type(f'{to_table}_id', 'int')} }})\\n\" \\\n",
    "                       f\"MERGE ( {table_name}) - [:{rel_name.upper()}{{ {','.join(props)} }}] -> ({to_table});\"\n",
    "    return import_statement\n",
    "\n",
    "\n",
    "def execute_statements(statements: List[str]) -> None:\n",
    "    with driver.session() as session:\n",
    "        for statement in statements:\n",
    "            if statement is None:\n",
    "                continue\n",
    "            try:\n",
    "                session.run(statement)\n",
    "                report()\n",
    "            except ClientError as e:\n",
    "                print(e.message)\n",
    "\n",
    "\n",
    "start = time()\n",
    "\n",
    "import_statements = []\n",
    "\n",
    "tables = [\"category\", \"film\", \"language\", \"actor\", \"staff\",\n",
    "          \"payment\", \"rental\", \"inventory\",\n",
    "          \"customer\", \"address\", \"city\", \"country\", \"store\"]\n",
    "# with driver.session() as session:\n",
    "for table in tables:\n",
    "    #     index, table_creation = print_transfer(table)\n",
    "    #     session.run(index)\n",
    "    #     session.run(table_creation)\n",
    "    import_statements.extend(print_transfer(table))\n",
    "    \n",
    "import_statements.extend([\n",
    "    many2many(\"film_category\", \"film\", \"category\", \"IN_CATEGORY\"),\n",
    "    many2many(\"film_actor\", \"actor\", \"film\", \"FILMED_IN\"),\n",
    "    transfer_relation(\"film\", \"language\", \"IN_LANGUAGE\"),\n",
    "    transfer_relation(\"inventory\", \"film\", \"RENTS_FILM\"),\n",
    "    transfer_relation(\"rental\", \"inventory\", \"RENTS\"),\n",
    "    transfer_relation(\"rental\", \"customer\", \"RENTED_TO\"),\n",
    "    transfer_relation(\"rental\", \"staff\", \"RENTED_BY\"),\n",
    "    transfer_relation(\"payment\", \"rental\", \"PAID_FOR\", last_update_to_rel=False),\n",
    "    transfer_relation(\"payment\", \"customer\", \"PAID_BY\", last_update_to_rel=False),\n",
    "    transfer_relation(\"payment\", \"staff\", \"ACCEPTED_BY\", last_update_to_rel=False),\n",
    "    transfer_relation(\"customer\", \"address\", \"LIVES_AT\"),\n",
    "    transfer_relation(\"staff\", \"address\", \"LIVES_AT\"),\n",
    "    transfer_relation(\"store\", \"address\", \"LOCATED_AT\"),\n",
    "    transfer_relation(\"address\", \"city\", \"SITUATED_IN\"),\n",
    "    transfer_relation(\"city\", \"country\", \"SITUATED_IN\"),\n",
    "    transfer_relation(\"store\", \"staff\", \"MANAGED_BY\", fk=\"manager_staff_id\"),\n",
    "])\n",
    "\n",
    "execute_statements(import_statements)\n",
    "\n",
    "print(f\"Time elapsed: {time()-start} seconds\")"
   ],
   "metadata": {
    "collapsed": false,
    "pycharm": {
     "name": "#%%\n",
     "is_executing": false
    }
   }
  },
  {
   "cell_type": "markdown",
   "source": [
    "# Queries"
   ],
   "metadata": {
    "collapsed": false,
    "pycharm": {
     "name": "#%% md\n"
    }
   }
  },
  {
   "cell_type": "code",
   "execution_count": 15,
   "outputs": [
    {
     "name": "stdout",
     "text": [
      "Query1:\n",
      "People, who rented movies of at least two different categories during the most recent year\n",
      "\t 15: Helen Harris\n",
      "\t42: Carolyn Perez\n",
      "\t43: Christine Roberts\n",
      "\t53: Heather Morris\n",
      "\t75: Tammy Sanders\n",
      "\t107: Florence Woods\n",
      "\t155: Gail Knight\n",
      "\t163: Cathy Spencer\n",
      "\t175: Annette Olson\n",
      "\t208: Lucy Wheeler\n",
      "\t216: Natalie Meyer\n",
      "\t267: Margie Wade\n",
      "\t269: Cassandra Walters\n",
      "\t284: Sonia Gregory\n",
      "\t354: Justin Ngo\n",
      "\t361: Lawrence Lawton\n",
      "\t448: Miguel Betancourt\n",
      "\t457: Bill Gavin\n",
      "\t516: Elmer Noe\n",
      "\t560: Jordan Archuleta\n",
      "\t576: Morris Mccarter\n"
     ],
     "output_type": "stream"
    }
   ],
   "source": [
    "with driver.session() as session:\n",
    "    data = session.run (\n",
    "        \"MATCH (r:Rental)\\n\"\n",
    "        \"WITH r\\n\"\n",
    "        \"ORDER BY r.rental_date DESC LIMIT 1\\n\"\n",
    "        \"with datetime({epochmillis:r.rental_date}).year as most_recent_year\\n\"\n",
    "        \n",
    "        \"match (cat2:Category)<-[:IN_CATEGORY]-(f2:Film)<-[:RENTS_FILM]-(:Inventory)<-[:RENTS]-(r2:Rental)-[:RENTED_TO]->\\n\"\n",
    "        \"(customer:Customer)<-[:RENTED_TO]-(r1:Rental)-[:RENTS]->(:Inventory)-[:RENTS_FILM]->(f1:Film)-[:IN_CATEGORY]->(cat1:Category)\\n\"\n",
    "        \n",
    "        \"where cat2 <> cat1 and f1 <> f2 and\\n\"\n",
    "        \"datetime({epochmillis:r1.rental_date}).year = most_recent_year and datetime({epochmillis:r2.rental_date}).year = most_recent_year\\n\"\n",
    "        \"return DISTINCT customer.customer_id as customer_id, customer.first_name as first_name, customer.last_name as last_name\"\n",
    "    )\n",
    "    q1 = [f'{x[\"customer_id\"]}: {x[\"first_name\"]} {x[\"last_name\"]}' for x in data]\n",
    "    print(\"Query1:\\nPeople, who rented movies of at least two different categories during the most recent year\\n\\t\",\"\\n\\t\".join(q1))\n",
    "    "
   ],
   "metadata": {
    "collapsed": false,
    "pycharm": {
     "name": "#%%\n",
     "is_executing": false
    }
   }
  },
  {
   "cell_type": "code",
   "execution_count": null,
   "outputs": [],
   "source": [
    " with driver.session() as session:\n",
    "    data = session.run(\n",
    "        \"match (a1:Actor) - [:FILMED_IN] -> (f:Film) <- [:FILMED_IN] - (a2:Actor)\\n\"\n",
    "        \"where a1.actor_id < a2.actor_id\\n\"\n",
    "        \"return a1.actor_id as actor1_id, a2.actor_id as actor2_id, count(*) as count, \"\n",
    "        \"a1.first_name as a1_first_name, a1.last_name as a1_last_name, a2.first_name as a2_first_name, a2.last_name as a2_last_name\\n\"\n",
    "        \"order by actor1_id, actor2_id\"\n",
    "    )\n",
    "    q2 = [(x[\"actor1_id\"], x[\"actor2_id\"], x[\"count\"], \n",
    "           f\"{x['a1_first_name']} {x['a1_last_name']}\", f\"{x['a2_first_name']} {x['a2_last_name']}\") for x in data]\n",
    "\n",
    "    wb = Workbook()\n",
    "    ws = wb.active\n",
    "    m = -1\n",
    "    for t in q2:\n",
    "        actor1, actor2, count, name1, name2 = t\n",
    "        ws.cell(row=actor1 + 1 + 1, column=actor2 + 1 + 1, value=count)\n",
    "        ws.cell(row=actor2 + 1 + 1, column=actor1 + 1 + 1, value=count)\n",
    "        \n",
    "        ws.cell(row=actor1 + 1 + 1, column=1, value=name1)\n",
    "        ws.cell(row=actor2 + 1 + 1, column=1, value=name2)\n",
    "        \n",
    "        ws.cell(row=1, column=actor1 + 1 + 1, value=name1).alignment = Alignment(text_rotation=85)\n",
    "        ws.cell(row=1, column=actor2 + 1 + 1, value=name2).alignment = Alignment(text_rotation=85)\n",
    "        \n",
    "        m = max(m, actor1, actor2)\n",
    "    \n",
    "    for i in range(2, ws.max_row + 1):\n",
    "        if i - 1 <= m:\n",
    "            ws.cell(row=2, column=i + 1, value=i - 1)\n",
    "            ws.cell(row=i + 1, column=2, value=i - 1)\n",
    "        for j in range(3, ws.max_column + 1 ):\n",
    "            cell = ws.cell(row=i, column=j)\n",
    "            if cell.value is None:\n",
    "                cell.value = 0\n",
    "                \n",
    "    wb.save(\"Query2.xlsx\")\n",
    "    print('See the result of query2 in the file \"Query2.xlsx\"')"
   ],
   "metadata": {
    "collapsed": false,
    "pycharm": {
     "name": "#%%\n"
    }
   }
  },
  {
   "cell_type": "code",
   "execution_count": 14,
   "outputs": [
    {
     "name": "stdout",
     "text": [
      "  film_id  title                    category_id  category       rental_count\n",
      "---------  ---------------------  -------------  -----------  --------------\n",
      "      737  Rock Instinct                     11  Horror                    2\n",
      "      301  Family Sweet                      11  Horror                    1\n",
      "      772  Sea Virgin                         7  Drama                     1\n",
      "     1000  Zorro Ark                          5  Comedy                    1\n",
      "      818  Something Duck                     7  Drama                     1\n",
      "      978  Wisdom Worker                      5  Comedy                    1\n",
      "      922  Undefeated Dalmations             11  Horror                    1\n",
      "      249  Dracula Crystal                    4  Classics                  1\n",
      "      924  Unforgiven Zoolander              14  Sci-Fi                    1\n",
      "      949  Volcano Texas                     10  Games                     1\n",
      "      186  Craft Outfield                     7  Drama                     1\n",
      "      630  Notting Speakeasy                  7  Drama                     1\n",
      "      303  Fantasy Troopers                   1  Action                    1\n",
      "      735  Robbers Joon                       3  Children                  1\n",
      "      311  Fiction Christmas                  9  Foreign                   1\n",
      "      799  Simon North                       11  Horror                    1\n",
      "      697  Primary Glass                      1  Action                    1\n",
      "      719  Records Zorro                     15  Sports                    1\n",
      "      103  Bucket Brotherhood                16  Travel                    1\n",
      "       69  Beverly Outlaw                    14  Sci-Fi                    1\n",
      "      662  Paths Control                      7  Drama                     1\n",
      "       97  Bride Intrigue                     1  Action                    1\n",
      "      897  Torque Bound                       7  Drama                     1\n",
      "       40  Army Flintstones                   6  Documentary               1\n",
      "      672  Perfect Groove                     5  Comedy                    1\n",
      "      725  Requiem Tycoon                     4  Classics                  1\n",
      "      357  Gilbert Pelican                    4  Classics                  1\n"
     ],
     "output_type": "stream"
    }
   ],
   "source": [
    "# Query 3\n",
    "def get_customer_history(customer_id:int) -> Tuple[Tuple[int,str,int,str, int]]:    \n",
    "    with driver.session() as session:\n",
    "        data = session.run (\n",
    "            \"match (c:Customer{customer_id:$cust_id})<-[:RENTED_TO]-(:Rental)-[:RENTS]->(:Inventory)-[:RENTS_FILM]->\\n\"\n",
    "            \"(f:Film)-[:IN_CATEGORY]->(cat:Category)\\n\"\n",
    "            \"return f.film_id as film_id, f.title as title,\\n\"\n",
    "            \"cat.category_id as category_id, cat.name as category, count(*) as count\\n\"\n",
    "            \"order by count desc\", cust_id = customer_id\n",
    "        )\n",
    "        \n",
    "        return tuple( (x[\"film_id\"], x[\"title\"], x[\"category_id\"], x[\"category\"], x[\"count\"]) for x in data)\n",
    "\n",
    "data = get_customer_history(12)\n",
    "print(\"Query3:\")\n",
    "print(tabulate.tabulate(data, [\"film_id\", \"title\", \"category_id\", \"category\", \"rental_count\"]))"
   ],
   "metadata": {
    "collapsed": false,
    "pycharm": {
     "name": "#%%\n",
     "is_executing": false
    }
   }
  },
  {
   "cell_type": "code",
   "execution_count": 19,
   "outputs": [
    {
     "name": "stdout",
     "text": [
      "Query4:\n",
      "Recommendations:\n",
      "   film_id  title               category      recommendation_rate\n",
      "---------  ------------------  ----------  ---------------------\n",
      "      990  World Leathernecks  Horror                          8\n",
      "       34  Arabia Dogma        Horror                          7\n",
      "      146  Chitty Lock         Drama                           6\n",
      "      666  Paycheck Wait       Drama                           5\n",
      "       65  Behavior Runaway    Horror                          5\n"
     ],
     "output_type": "stream"
    }
   ],
   "source": [
    "# Query 4\n",
    "def get_customer_recommendations(customer_id:int, limit : Optional[int]= None):\n",
    "    with driver.session() as session:\n",
    "        data = session.run(\n",
    "            \"match (:Customer{customer_id:$cust_id}) <- [:RENTED_TO] - (:Rental) - [:RENTS] -> (:Inventory) - [views:RENTS_FILM] -> (watched:Film)\\n\"\n",
    "            \"<-[:FILMED_IN] - (a:Actor)- [conn:FILMED_IN] -> (rec:Film), (watched) - [:IN_CATEGORY] -> (cat:Category) <- [:IN_CATEGORY] - (rec)\\n\"\n",
    "            \"where rec <> watched\\n\"\n",
    "            \"return rec.film_id as recommendation_film_id, rec.title as recommendation_film_title, cat.name as category,\\n\"\n",
    "            \"count(distinct conn) + count(distinct views) as recommendation_rate\\n\"\n",
    "            \"order by recommendation_rate desc\\n\"\n",
    "            f\"{'limit $lim' if limit else ''}\",\n",
    "            cust_id=customer_id, lim=limit\n",
    "        )\n",
    "        \n",
    "        return tuple((x[\"recommendation_film_id\"], x[\"recommendation_film_title\"], x[\"category\"], x[\"recommendation_rate\"]) for x in data)\n",
    "print(\"Query4:\")\n",
    "data = get_customer_recommendations(12, limit=5)\n",
    "print(\"Recommendations:\\n\", tabulate.tabulate(data, [\"film_id\", \"title\", \"category\", \"recommendation_rate\"]))"
   ],
   "metadata": {
    "collapsed": false,
    "pycharm": {
     "name": "#%%\n",
     "is_executing": false
    }
   }
  },
  {
   "cell_type": "code",
   "execution_count": null,
   "outputs": [],
   "source": [
    "def get_separation_degrees(actor_id:int):\n",
    "    with driver.session() as session:\n",
    "        data = session.run(\n",
    "            \"match p=shortestPath(\\n\"\n",
    "            \"\t(actor:Actor{actor_id:$a_id}) -[r:FILMED_IN*..50] -(next:Actor)\\n\"\n",
    "            \")\\n\"\n",
    "            \"where actor<>next\\n\"\n",
    "            \"return next.actor_id as to_id, next.first_name as to_name, next.last_name as to_lastname, size(r)/2 as hops\\n\"\n",
    "            \"order by to_id\",\n",
    "            a_id = actor_id\n",
    "        )\n",
    "        return tuple( (x[\"to_id\"], f'{x[\"to_name\"]} {x[\"to_lastname\"]}', x[\"hops\"]) for x in data)\n",
    "\n",
    "print(\"Query5:\")\n",
    "print(tabulate.tabulate(get_separation_degrees(12), [\"to (id)\", \"name\", \"degree\"]))"
   ],
   "metadata": {
    "collapsed": false,
    "pycharm": {
     "name": "#%%\n"
    }
   }
  },
  {
   "cell_type": "code",
   "execution_count": null,
   "outputs": [],
   "source": [
    "driver.close()\n",
    "conn.close()"
   ],
   "metadata": {
    "collapsed": false,
    "pycharm": {
     "name": "#%%\n"
    }
   }
  }
 ],
 "metadata": {
  "kernelspec": {
   "display_name": "Python 3",
   "language": "python",
   "name": "python3"
  },
  "language_info": {
   "codemirror_mode": {
    "name": "ipython",
    "version": 3
   },
   "file_extension": ".py",
   "mimetype": "text/x-python",
   "name": "python",
   "nbconvert_exporter": "python",
   "pygments_lexer": "ipython3",
   "version": "3.7.6"
  },
  "pycharm": {
   "stem_cell": {
    "cell_type": "raw",
    "source": [],
    "metadata": {
     "collapsed": false
    }
   }
  }
 },
 "nbformat": 4,
 "nbformat_minor": 1
}