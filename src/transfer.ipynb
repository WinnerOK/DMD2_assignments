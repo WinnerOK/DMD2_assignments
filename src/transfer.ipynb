{
 "cells": [
  {
   "cell_type": "markdown",
   "metadata": {
    "pycharm": {
     "name": "#%% md\n"
    }
   },
   "source": [
    "# Problems:\n",
    "* Decimal is unsupported -> conversion to float\n",
    "* No constraints besides the unique constraints -> all checks should be performed on backend"
   ]
  },
  {
   "cell_type": "code",
   "execution_count": 13,
   "metadata": {
    "collapsed": true,
    "pycharm": {
     "is_executing": false
    }
   },
   "outputs": [],
   "source": [
    "from neo4j import GraphDatabase, DirectDriver\n",
    "from neo4j.exceptions import ClientError\n",
    "\n",
    "NEO_LOGIN = \"neo4j\"\n",
    "NEO_PASSWORD = \"bitnami\"\n",
    "\n",
    "uri = \"bolt://localhost:7687\"\n",
    "driver = GraphDatabase.driver(uri, auth=(NEO_LOGIN, NEO_PASSWORD))\n",
    "\n",
    "\n"
   ]
  },
  {
   "cell_type": "code",
   "execution_count": 20,
   "metadata": {
    "pycharm": {
     "is_executing": false,
     "name": "#%%\n"
    }
   },
   "outputs": [],
   "source": [
    "import psycopg2\n",
    "\n",
    "PG_LOGIN = \"DMD2user\"\n",
    "PG_PASS = \"DMD2pgPass\"\n",
    "PG_DB = \"dvdrental\"\n",
    "\n",
    "con = psycopg2.connect(database=PG_DB, user=PG_LOGIN,\n",
    "                       password=PG_PASS, host=\"localhost\", port=\"5432\")\n",
    "\n",
    "cursor = con.cursor()"
   ]
  },
  {
   "cell_type": "code",
   "execution_count": 18,
   "outputs": [],
   "source": [
    "cursor.execute(\"alter table store rename column manager_staff_id to staff_id\")\n",
    "con.commit()"
   ],
   "metadata": {
    "collapsed": false,
    "pycharm": {
     "name": "#%%\n",
     "is_executing": false
    }
   }
  },
  {
   "cell_type": "code",
   "execution_count": 15,
   "metadata": {
    "pycharm": {
     "is_executing": false,
     "name": "#%%\n"
    }
   },
   "outputs": [],
   "source": [
    "from typing import List, Tuple, Optional\n",
    "from decimal import Decimal\n",
    "\n",
    "steps = 29\n",
    "current_step = 1\n",
    "\n",
    "def report(obj_name: str):\n",
    "    global steps, current_step\n",
    "    print(f\"{obj_name} done: {current_step}/{steps}\")\n",
    "    current_step += 1\n",
    "\n",
    "def make_label(s:str) -> str:\n",
    "        return s.capitalize()\n",
    "    \n",
    "def make_var(s:str) -> str:\n",
    "    return s.lower()\n",
    "\n",
    "def fix_arg_type(arg):\n",
    "    if type(arg) == Decimal:\n",
    "        return float(arg)\n",
    "    else:\n",
    "        return arg\n",
    "\n",
    "def transfer_table(driver: DirectDriver, cursor, tablename: str, *args, \n",
    "                   relationships: Optional[List[Tuple[str,str,str]]] = None,\n",
    "                   indices:Optional[Tuple[str]] = None):\n",
    "    label = make_label(tablename)\n",
    "    var = make_var(tablename)\n",
    "    insert_statement = f\"CREATE ({var}: {label} {{ {', '.join([f'{prop}: ${prop}' for prop in args])} }})\"\n",
    "    sql_query = f\"select {', '.join(args)} from {tablename}\"\n",
    "    unique = f\"CREATE CONSTRAINT ON ({var}: {label}) ASSERT {var}.{tablename.lower()}_id IS UNIQUE\"\n",
    "\n",
    "    relation = \"MATCH ({var_from}:{label_from}), ({var_to}:{label_to}) WHERE \" \\\n",
    "               \"{var_from}.{table_from}_id = ${table_from}_id  AND {var_to}.{table_to}_id = ${table_to}_id \" \\\n",
    "               \"CREATE ({var_from}) - [r:{relation_name}] -> ({var_to})\" \n",
    "    \n",
    "    remove_unused_id =\"MATCH (n:{label_from})\" \\\n",
    "                      \"REMOVE n.{table_to}_id\"\n",
    "    \n",
    "    cursor.execute(sql_query)\n",
    "    with driver.session() as session:\n",
    "        tx = session.begin_transaction()\n",
    "        \n",
    "        for row in cursor.fetchall():\n",
    "            data = dict(zip(args, map(fix_arg_type, row)))\n",
    "            tx.run(insert_statement, **data)\n",
    "            \n",
    "            if relationships is not None:\n",
    "                for relationship in relationships:\n",
    "                    rel = relation.format(\n",
    "                        table_from=relationship[0], table_to=relationship[1],\n",
    "                        var_from=make_var(relationship[0]), var_to=make_var(relationship[1]),\n",
    "                        label_from=make_label(relationship[0]), label_to=make_label(relationship[1]),\n",
    "                        relation_name=relationship[2])\n",
    "                        \n",
    "                    tx.run(relation.format(\n",
    "                        table_from=relationship[0], table_to=relationship[1],\n",
    "                        var_from=make_var(relationship[0]), var_to=make_var(relationship[1]),\n",
    "                        label_from=make_label(relationship[0]), label_to=make_label(relationship[1]),\n",
    "                        relation_name=relationship[2]\n",
    "                    ), **data)\n",
    "                    \n",
    "        if relationships is not None:\n",
    "            for relationship in relationships:\n",
    "                tx.run(remove_unused_id.format(label_from=make_label(relationship[0]),\n",
    "                                               table_to=relationship[1]\n",
    "                                               ))\n",
    "        tx.sync()\n",
    "        tx.commit()\n",
    "        session.run(unique)\n",
    "    \n",
    "    report(tablename)\n",
    "    if relationships is not None:\n",
    "        for relationship in relationships:\n",
    "            report(f\"{relationship[0]} -> {relationship[1]}\")\n",
    "    \n",
    "def transfer_many2many_rel(driver: DirectDriver, cursor, table_name: str, table_from:str, table_to: str, \n",
    "                           relation_name:str, *args:str):\n",
    "    relation = \"MATCH ({var_from}:{label_from}), ({var_to}:{label_to}) WHERE \" \\\n",
    "               \"{var_from}.{table_from}_id = ${table_from}_id  AND {var_to}.{table_to}_id = ${table_to}_id \" \\\n",
    "               \"CREATE ({var_from}) - [r:{relation_name} {{{args}}} ] -> ({var_to})\".format(\n",
    "                table_from=table_from, table_to=table_to,\n",
    "                var_from=make_var(table_from), var_to=make_var(table_to),\n",
    "                label_from=make_label(table_from), label_to=make_label(table_to),\n",
    "                relation_name=relation_name, args=\", \".join([f\"{x}:${x}\" for x in args if not x.endswith(\"_id\")])\n",
    "               )\n",
    "    sql_query = f\"select {', '.join(args)} from {table_name}\"\n",
    "    cursor.execute(sql_query)\n",
    "    with driver.session() as session:\n",
    "        tx = session.begin_transaction()\n",
    "        for row in cursor.fetchall():\n",
    "            data = dict(zip(args, map(fix_arg_type, row)))\n",
    "            tx.run(relation, **data)\n",
    "        tx.sync()\n",
    "        tx.commit()\n",
    "    report(f\"{table_from} -> {table_to}\")\n",
    "\n",
    "def create_index(driver: DirectDriver, tablename:str, *fields:str):\n",
    "    with driver.session() as session:\n",
    "        session.run(f\"CREATE INDEX ON :{make_label(tablename)} \"\n",
    "                    f\"({', '.join(fields)})\")"
   ]
  },
  {
   "cell_type": "markdown",
   "metadata": {
    "pycharm": {
     "name": "#%% md\n"
    }
   },
   "source": [
    "Connected to db\n",
    "# Start transfer\n",
    "## Category"
   ]
  },
  {
   "cell_type": "code",
   "execution_count": 20,
   "metadata": {
    "pycharm": {
     "is_executing": false,
     "name": "#%%\n"
    }
   },
   "outputs": [
    {
     "name": "stdout",
     "text": [
      "category done: 1/29\n"
     ],
     "output_type": "stream"
    }
   ],
   "source": [
    "transfer_table(driver, cursor, \"category\", \"category_id\", \"name\", \"last_update\")"
   ]
  },
  {
   "cell_type": "markdown",
   "metadata": {},
   "source": [
    "## Language"
   ]
  },
  {
   "cell_type": "code",
   "execution_count": 21,
   "metadata": {
    "pycharm": {
     "is_executing": false,
     "name": "#%%\n"
    }
   },
   "outputs": [
    {
     "name": "stdout",
     "text": [
      "language done: 2/29\n"
     ],
     "output_type": "stream"
    }
   ],
   "source": [
    "transfer_table(driver, cursor, \"language\", \"language_id\", \"name\", \"last_update\")"
   ]
  },
  {
   "cell_type": "markdown",
   "metadata": {
    "pycharm": {
     "is_executing": false,
     "name": "#%% md\n"
    }
   },
   "source": [
    "## Film + Film-language connection"
   ]
  },
  {
   "cell_type": "code",
   "execution_count": 22,
   "metadata": {
    "pycharm": {
     "is_executing": false,
     "name": "#%%\n"
    }
   },
   "outputs": [
    {
     "name": "stdout",
     "text": [
      "film done: 3/29\n",
      "film -> language done: 4/29\n"
     ],
     "output_type": "stream"
    }
   ],
   "source": [
    "transfer_table(driver, cursor, \"film\", \"film_id\", \"title\", \"description\", \"release_year\", \"rental_duration\", \"rental_rate\", \"length\", \n",
    "\"replacement_cost\", \"rating\", \"last_update\", \"special_features\", \"fulltext\", \"language_id\",\n",
    "               relationships=[(\"film\", \"language\", \"IN_LANGUAGE\")])"
   ]
  },
  {
   "cell_type": "markdown",
   "metadata": {},
   "source": [
    "## Category-Film"
   ]
  },
  {
   "cell_type": "code",
   "execution_count": 23,
   "metadata": {
    "pycharm": {
     "is_executing": false,
     "name": "#%%\n"
    }
   },
   "outputs": [
    {
     "name": "stdout",
     "text": [
      "film -> category done: 5/29\n"
     ],
     "output_type": "stream"
    }
   ],
   "source": [
    "transfer_many2many_rel(driver, cursor, \"film_category\", \"film\", \"category\", \"IN_CATEGORY\", \n",
    "                       \"film_id\", \"category_id\", \"last_update\")"
   ]
  },
  {
   "cell_type": "markdown",
   "metadata": {},
   "source": [
    "## Actor"
   ]
  },
  {
   "cell_type": "code",
   "execution_count": 24,
   "metadata": {
    "pycharm": {
     "is_executing": false,
     "name": "#%%\n"
    }
   },
   "outputs": [
    {
     "name": "stdout",
     "text": [
      "actor done: 6/29\n"
     ],
     "output_type": "stream"
    }
   ],
   "source": [
    "transfer_table(driver, cursor, \"actor\", \n",
    "               \"actor_id\", \"first_name\", \"last_name\", \"last_update\")"
   ]
  },
  {
   "cell_type": "markdown",
   "metadata": {},
   "source": [
    "## Actor->Film connection"
   ]
  },
  {
   "cell_type": "code",
   "execution_count": 25,
   "metadata": {
    "pycharm": {
     "is_executing": false,
     "name": "#%%\n"
    }
   },
   "outputs": [
    {
     "name": "stdout",
     "text": [
      "actor -> film done: 7/29\n"
     ],
     "output_type": "stream"
    }
   ],
   "source": [
    "transfer_many2many_rel(driver, cursor, \"film_actor\", \"actor\", \"film\", \"FILMED_IN\", \n",
    "                       \"actor_id\", \"film_id\", \"last_update\")"
   ]
  },
  {
   "cell_type": "markdown",
   "metadata": {
    "pycharm": {
     "name": "#%% md\n"
    }
   },
   "source": [
    "## Inventory + film<-inventory"
   ]
  },
  {
   "cell_type": "code",
   "execution_count": 26,
   "metadata": {
    "pycharm": {
     "is_executing": false,
     "name": "#%%\n"
    }
   },
   "outputs": [
    {
     "name": "stdout",
     "text": [
      "inventory done: 8/29\n",
      "inventory -> film done: 9/29\n"
     ],
     "output_type": "stream"
    }
   ],
   "source": [
    "transfer_table(driver, cursor, \"inventory\", \n",
    "               \"inventory_id\", \"film_id\", \"store_id\", \"last_update\",\n",
    "               relationships=[(\"inventory\", \"film\", \"RENTS_FILM\")])"
   ]
  },
  {
   "cell_type": "markdown",
   "metadata": {
    "pycharm": {
     "name": "#%% md\n"
    }
   },
   "source": [
    "## Country"
   ]
  },
  {
   "cell_type": "code",
   "execution_count": 27,
   "metadata": {
    "pycharm": {
     "name": "#%%\n",
     "is_executing": false
    }
   },
   "outputs": [
    {
     "name": "stdout",
     "text": [
      "country done: 10/29\n"
     ],
     "output_type": "stream"
    }
   ],
   "source": [
    "transfer_table(driver, cursor, \"country\", \"country_id\", \"country\", \"last_update\")\n"
   ]
  },
  {
   "cell_type": "markdown",
   "source": [
    "## City"
   ],
   "metadata": {
    "collapsed": false,
    "pycharm": {
     "name": "#%% md\n"
    }
   }
  },
  {
   "cell_type": "code",
   "execution_count": 28,
   "outputs": [
    {
     "name": "stdout",
     "text": [
      "city done: 11/29\n",
      "city -> country done: 12/29\n"
     ],
     "output_type": "stream"
    }
   ],
   "source": [
    "transfer_table(driver, cursor, \"city\",  \n",
    "               \"city_id\", \"city\", \"country_id\", \"last_update\",\n",
    "               relationships=[(\"city\", \"country\", \"SITUATED_IN\")])"
   ],
   "metadata": {
    "collapsed": false,
    "pycharm": {
     "name": "#%%\n",
     "is_executing": false
    }
   }
  },
  {
   "cell_type": "markdown",
   "source": [
    "## Address"
   ],
   "metadata": {
    "collapsed": false,
    "pycharm": {
     "name": "#%% md\n"
    }
   }
  },
  {
   "cell_type": "code",
   "execution_count": 29,
   "outputs": [
    {
     "name": "stdout",
     "text": [
      "address done: 13/29\n",
      "address -> city done: 14/29\n"
     ],
     "output_type": "stream"
    }
   ],
   "source": [
    "transfer_table(driver, cursor, \"address\",\n",
    "               \"address_id\", \"address\", \"address2\", \"district\", \"city_id\", \"postal_code\", \"phone\", \"last_update\",\n",
    "               relationships=[(\"address\", \"city\", \"SITUATED_IN\")])"
   ],
   "metadata": {
    "collapsed": false,
    "pycharm": {
     "name": "#%%\n",
     "is_executing": false
    }
   }
  },
  {
   "cell_type": "markdown",
   "source": [
    "## Customer"
   ],
   "metadata": {
    "collapsed": false,
    "pycharm": {
     "name": "#%% md\n"
    }
   }
  },
  {
   "cell_type": "code",
   "execution_count": 30,
   "outputs": [
    {
     "name": "stdout",
     "text": [
      "customer done: 15/29\n",
      "customer -> address done: 16/29\n"
     ],
     "output_type": "stream"
    }
   ],
   "source": [
    "transfer_table(driver, cursor, \"customer\",\n",
    "               \"customer_id\", \"store_id\", \"first_name\", \"last_name\", \"email\", \"address_id\", \"activebool\",\n",
    "               \"create_date\", \"last_update\", \"active\",\n",
    "               relationships=[(\"customer\", \"address\", \"LIVES_AT\")])"
   ],
   "metadata": {
    "collapsed": false,
    "pycharm": {
     "name": "#%%\n",
     "is_executing": false
    }
   }
  },
  {
   "cell_type": "markdown",
   "source": [
    "## Staff"
   ],
   "metadata": {
    "collapsed": false,
    "pycharm": {
     "name": "#%% md\n"
    }
   }
  },
  {
   "cell_type": "code",
   "execution_count": 31,
   "outputs": [
    {
     "name": "stdout",
     "text": [
      "staff done: 17/29\n",
      "staff -> address done: 18/29\n"
     ],
     "output_type": "stream"
    }
   ],
   "source": [
    "transfer_table(driver, cursor, \"staff\",\n",
    "               \"staff_id\", \"first_name\", \"last_name\", \"address_id\", \"email\", \"store_id\", \"active\",\n",
    "               \"username\", \"password\", \"last_update\",\n",
    "               relationships=[(\"staff\", \"address\", \"LIVES_AT\")])"
   ],
   "metadata": {
    "collapsed": false,
    "pycharm": {
     "name": "#%%\n",
     "is_executing": false
    }
   }
  },
  {
   "cell_type": "markdown",
   "source": [
    "## Store"
   ],
   "metadata": {
    "collapsed": false,
    "pycharm": {
     "name": "#%% md\n"
    }
   }
  },
  {
   "cell_type": "code",
   "execution_count": 32,
   "outputs": [
    {
     "name": "stdout",
     "text": [
      "store done: 19/29\n",
      "store -> staff done: 20/29\n",
      "store -> address done: 21/29\n"
     ],
     "output_type": "stream"
    }
   ],
   "source": [
    "transfer_table(driver, cursor, \"store\", \n",
    "               \"store_id\", \"staff_id\", \"address_id\", \"last_update\",\n",
    "               relationships=[(\"store\", \"staff\", \"MANAGED_BY\"), (\"store\", \"address\", \"LOCATED_AT\")])\n",
    "\n",
    "cursor.execute(\"alter table store rename column staff_id to manager_staff_id\")\n",
    "con.commit()"
   ],
   "metadata": {
    "collapsed": false,
    "pycharm": {
     "name": "#%%\n",
     "is_executing": false
    }
   }
  },
  {
   "cell_type": "markdown",
   "source": [
    "## Rental\n",
    "Very long step"
   ],
   "metadata": {
    "collapsed": false,
    "pycharm": {
     "name": "#%% md\n"
    }
   }
  },
  {
   "cell_type": "code",
   "execution_count": 33,
   "outputs": [
    {
     "name": "stdout",
     "text": [
      "Please, be patient, following steps might take up to 10 minutes in total\n"
     ],
     "output_type": "stream"
    },
    {
     "traceback": [
      "\u001b[0;31m---------------------------------------------------------------------------\u001b[0m",
      "\u001b[0;31mServiceUnavailable\u001b[0m                        Traceback (most recent call last)",
      "\u001b[0;32m<ipython-input-33-9487446b8780>\u001b[0m in \u001b[0;36m<module>\u001b[0;34m\u001b[0m\n\u001b[1;32m      4\u001b[0m                relationships=[(\"rental\", \"inventory\", \"RENTS\"), \n\u001b[1;32m      5\u001b[0m                               \u001b[0;34m(\u001b[0m\u001b[0;34m\"rental\"\u001b[0m\u001b[0;34m,\u001b[0m \u001b[0;34m\"customer\"\u001b[0m\u001b[0;34m,\u001b[0m \u001b[0;34m\"RENTED_TO\"\u001b[0m\u001b[0;34m)\u001b[0m\u001b[0;34m,\u001b[0m\u001b[0;34m\u001b[0m\u001b[0;34m\u001b[0m\u001b[0m\n\u001b[0;32m----> 6\u001b[0;31m                               (\"rental\", \"staff\", \"RENTED_BY\")])\n\u001b[0m\u001b[1;32m      7\u001b[0m \u001b[0;34m\u001b[0m\u001b[0m\n",
      "\u001b[0;32m<ipython-input-19-cb1d52cc0f1c>\u001b[0m in \u001b[0;36mtransfer_table\u001b[0;34m(driver, cursor, tablename, relationships, indices, *args)\u001b[0m\n\u001b[1;32m     66\u001b[0m                                                \u001b[0mtable_to\u001b[0m\u001b[0;34m=\u001b[0m\u001b[0mrelationship\u001b[0m\u001b[0;34m[\u001b[0m\u001b[0;36m1\u001b[0m\u001b[0;34m]\u001b[0m\u001b[0;34m\u001b[0m\u001b[0;34m\u001b[0m\u001b[0m\n\u001b[1;32m     67\u001b[0m                                                ))\n\u001b[0;32m---> 68\u001b[0;31m         \u001b[0mtx\u001b[0m\u001b[0;34m.\u001b[0m\u001b[0msync\u001b[0m\u001b[0;34m(\u001b[0m\u001b[0;34m)\u001b[0m\u001b[0;34m\u001b[0m\u001b[0;34m\u001b[0m\u001b[0m\n\u001b[0m\u001b[1;32m     69\u001b[0m         \u001b[0mtx\u001b[0m\u001b[0;34m.\u001b[0m\u001b[0mcommit\u001b[0m\u001b[0;34m(\u001b[0m\u001b[0;34m)\u001b[0m\u001b[0;34m\u001b[0m\u001b[0;34m\u001b[0m\u001b[0m\n\u001b[1;32m     70\u001b[0m         \u001b[0msession\u001b[0m\u001b[0;34m.\u001b[0m\u001b[0mrun\u001b[0m\u001b[0;34m(\u001b[0m\u001b[0munique\u001b[0m\u001b[0;34m)\u001b[0m\u001b[0;34m\u001b[0m\u001b[0;34m\u001b[0m\u001b[0m\n",
      "\u001b[0;32m~/Coding/Innopolis courses/DMD-2/.venv/lib/python3.7/site-packages/neo4j/__init__.py\u001b[0m in \u001b[0;36msync\u001b[0;34m(self)\u001b[0m\n\u001b[1;32m    795\u001b[0m         \"\"\"\n\u001b[1;32m    796\u001b[0m         \u001b[0mself\u001b[0m\u001b[0;34m.\u001b[0m\u001b[0m_assert_open\u001b[0m\u001b[0;34m(\u001b[0m\u001b[0;34m)\u001b[0m\u001b[0;34m\u001b[0m\u001b[0;34m\u001b[0m\u001b[0m\n\u001b[0;32m--> 797\u001b[0;31m         \u001b[0mself\u001b[0m\u001b[0;34m.\u001b[0m\u001b[0msession\u001b[0m\u001b[0;34m.\u001b[0m\u001b[0msync\u001b[0m\u001b[0;34m(\u001b[0m\u001b[0;34m)\u001b[0m\u001b[0;34m\u001b[0m\u001b[0;34m\u001b[0m\u001b[0m\n\u001b[0m\u001b[1;32m    798\u001b[0m \u001b[0;34m\u001b[0m\u001b[0m\n\u001b[1;32m    799\u001b[0m     \u001b[0;32mdef\u001b[0m \u001b[0mcommit\u001b[0m\u001b[0;34m(\u001b[0m\u001b[0mself\u001b[0m\u001b[0;34m)\u001b[0m\u001b[0;34m:\u001b[0m\u001b[0;34m\u001b[0m\u001b[0;34m\u001b[0m\u001b[0m\n",
      "\u001b[0;32m~/Coding/Innopolis courses/DMD-2/.venv/lib/python3.7/site-packages/neo4j/__init__.py\u001b[0m in \u001b[0;36msync\u001b[0;34m(self)\u001b[0m\n\u001b[1;32m    540\u001b[0m         \u001b[0;32mif\u001b[0m \u001b[0mself\u001b[0m\u001b[0;34m.\u001b[0m\u001b[0m_connection\u001b[0m\u001b[0;34m:\u001b[0m\u001b[0;34m\u001b[0m\u001b[0;34m\u001b[0m\u001b[0m\n\u001b[1;32m    541\u001b[0m             \u001b[0;32mtry\u001b[0m\u001b[0;34m:\u001b[0m\u001b[0;34m\u001b[0m\u001b[0;34m\u001b[0m\u001b[0m\n\u001b[0;32m--> 542\u001b[0;31m                 \u001b[0mdetail_count\u001b[0m\u001b[0;34m,\u001b[0m \u001b[0m_\u001b[0m \u001b[0;34m=\u001b[0m \u001b[0mself\u001b[0m\u001b[0;34m.\u001b[0m\u001b[0m_connection\u001b[0m\u001b[0;34m.\u001b[0m\u001b[0msync\u001b[0m\u001b[0;34m(\u001b[0m\u001b[0;34m)\u001b[0m\u001b[0;34m\u001b[0m\u001b[0;34m\u001b[0m\u001b[0m\n\u001b[0m\u001b[1;32m    543\u001b[0m             \u001b[0;32mexcept\u001b[0m \u001b[0mConnectionExpired\u001b[0m \u001b[0;32mas\u001b[0m \u001b[0merror\u001b[0m\u001b[0;34m:\u001b[0m\u001b[0;34m\u001b[0m\u001b[0;34m\u001b[0m\u001b[0m\n\u001b[1;32m    544\u001b[0m                 \u001b[0;32mraise\u001b[0m \u001b[0mSessionExpired\u001b[0m\u001b[0;34m(\u001b[0m\u001b[0;34m*\u001b[0m\u001b[0merror\u001b[0m\u001b[0;34m.\u001b[0m\u001b[0margs\u001b[0m\u001b[0;34m)\u001b[0m\u001b[0;34m\u001b[0m\u001b[0;34m\u001b[0m\u001b[0m\n",
      "\u001b[0;32m~/Coding/Innopolis courses/DMD-2/.venv/lib/python3.7/site-packages/neobolt/direct.py\u001b[0m in \u001b[0;36msync\u001b[0;34m(self)\u001b[0m\n\u001b[1;32m    525\u001b[0m             \u001b[0mresponse\u001b[0m \u001b[0;34m=\u001b[0m \u001b[0mself\u001b[0m\u001b[0;34m.\u001b[0m\u001b[0mresponses\u001b[0m\u001b[0;34m[\u001b[0m\u001b[0;36m0\u001b[0m\u001b[0;34m]\u001b[0m\u001b[0;34m\u001b[0m\u001b[0;34m\u001b[0m\u001b[0m\n\u001b[1;32m    526\u001b[0m             \u001b[0;32mwhile\u001b[0m \u001b[0;32mnot\u001b[0m \u001b[0mresponse\u001b[0m\u001b[0;34m.\u001b[0m\u001b[0mcomplete\u001b[0m\u001b[0;34m:\u001b[0m\u001b[0;34m\u001b[0m\u001b[0;34m\u001b[0m\u001b[0m\n\u001b[0;32m--> 527\u001b[0;31m                 \u001b[0mdetail_delta\u001b[0m\u001b[0;34m,\u001b[0m \u001b[0msummary_delta\u001b[0m \u001b[0;34m=\u001b[0m \u001b[0mself\u001b[0m\u001b[0;34m.\u001b[0m\u001b[0mfetch\u001b[0m\u001b[0;34m(\u001b[0m\u001b[0;34m)\u001b[0m\u001b[0;34m\u001b[0m\u001b[0;34m\u001b[0m\u001b[0m\n\u001b[0m\u001b[1;32m    528\u001b[0m                 \u001b[0mdetail_count\u001b[0m \u001b[0;34m+=\u001b[0m \u001b[0mdetail_delta\u001b[0m\u001b[0;34m\u001b[0m\u001b[0;34m\u001b[0m\u001b[0m\n\u001b[1;32m    529\u001b[0m                 \u001b[0msummary_count\u001b[0m \u001b[0;34m+=\u001b[0m \u001b[0msummary_delta\u001b[0m\u001b[0;34m\u001b[0m\u001b[0;34m\u001b[0m\u001b[0m\n",
      "\u001b[0;32m~/Coding/Innopolis courses/DMD-2/.venv/lib/python3.7/site-packages/neobolt/direct.py\u001b[0m in \u001b[0;36mfetch\u001b[0;34m(self)\u001b[0m\n\u001b[1;32m    417\u001b[0m     \u001b[0;32mdef\u001b[0m \u001b[0mfetch\u001b[0m\u001b[0;34m(\u001b[0m\u001b[0mself\u001b[0m\u001b[0;34m)\u001b[0m\u001b[0;34m:\u001b[0m\u001b[0;34m\u001b[0m\u001b[0;34m\u001b[0m\u001b[0m\n\u001b[1;32m    418\u001b[0m         \u001b[0;32mtry\u001b[0m\u001b[0;34m:\u001b[0m\u001b[0;34m\u001b[0m\u001b[0;34m\u001b[0m\u001b[0m\n\u001b[0;32m--> 419\u001b[0;31m             \u001b[0;32mreturn\u001b[0m \u001b[0mself\u001b[0m\u001b[0;34m.\u001b[0m\u001b[0m_fetch\u001b[0m\u001b[0;34m(\u001b[0m\u001b[0;34m)\u001b[0m\u001b[0;34m\u001b[0m\u001b[0;34m\u001b[0m\u001b[0m\n\u001b[0m\u001b[1;32m    420\u001b[0m         \u001b[0;32mexcept\u001b[0m \u001b[0mself\u001b[0m\u001b[0;34m.\u001b[0m\u001b[0merror_handler\u001b[0m\u001b[0;34m.\u001b[0m\u001b[0mknown_errors\u001b[0m \u001b[0;32mas\u001b[0m \u001b[0merror\u001b[0m\u001b[0;34m:\u001b[0m\u001b[0;34m\u001b[0m\u001b[0;34m\u001b[0m\u001b[0m\n\u001b[1;32m    421\u001b[0m             \u001b[0mself\u001b[0m\u001b[0;34m.\u001b[0m\u001b[0merror_handler\u001b[0m\u001b[0;34m.\u001b[0m\u001b[0mhandle\u001b[0m\u001b[0;34m(\u001b[0m\u001b[0merror\u001b[0m\u001b[0;34m,\u001b[0m \u001b[0mself\u001b[0m\u001b[0;34m.\u001b[0m\u001b[0munresolved_address\u001b[0m\u001b[0;34m)\u001b[0m\u001b[0;34m\u001b[0m\u001b[0;34m\u001b[0m\u001b[0m\n",
      "\u001b[0;32m~/Coding/Innopolis courses/DMD-2/.venv/lib/python3.7/site-packages/neobolt/direct.py\u001b[0m in \u001b[0;36m_fetch\u001b[0;34m(self)\u001b[0m\n\u001b[1;32m    459\u001b[0m         \u001b[0;32melif\u001b[0m \u001b[0msummary_signature\u001b[0m \u001b[0;34m==\u001b[0m \u001b[0;34mb\"\\x7F\"\u001b[0m\u001b[0;34m:\u001b[0m\u001b[0;34m\u001b[0m\u001b[0;34m\u001b[0m\u001b[0m\n\u001b[1;32m    460\u001b[0m             \u001b[0mlog_debug\u001b[0m\u001b[0;34m(\u001b[0m\u001b[0;34m\"[#%04X]  S: FAILURE %r\"\u001b[0m\u001b[0;34m,\u001b[0m \u001b[0mself\u001b[0m\u001b[0;34m.\u001b[0m\u001b[0mlocal_port\u001b[0m\u001b[0;34m,\u001b[0m \u001b[0msummary_metadata\u001b[0m\u001b[0;34m)\u001b[0m\u001b[0;34m\u001b[0m\u001b[0;34m\u001b[0m\u001b[0m\n\u001b[0;32m--> 461\u001b[0;31m             \u001b[0mresponse\u001b[0m\u001b[0;34m.\u001b[0m\u001b[0mon_failure\u001b[0m\u001b[0;34m(\u001b[0m\u001b[0msummary_metadata\u001b[0m \u001b[0;32mor\u001b[0m \u001b[0;34m{\u001b[0m\u001b[0;34m}\u001b[0m\u001b[0;34m)\u001b[0m\u001b[0;34m\u001b[0m\u001b[0;34m\u001b[0m\u001b[0m\n\u001b[0m\u001b[1;32m    462\u001b[0m         \u001b[0;32melse\u001b[0m\u001b[0;34m:\u001b[0m\u001b[0;34m\u001b[0m\u001b[0;34m\u001b[0m\u001b[0m\n\u001b[1;32m    463\u001b[0m             \u001b[0;32mraise\u001b[0m \u001b[0mProtocolError\u001b[0m\u001b[0;34m(\u001b[0m\u001b[0;34m\"Unexpected response message with signature %02X\"\u001b[0m \u001b[0;34m%\u001b[0m \u001b[0msummary_signature\u001b[0m\u001b[0;34m)\u001b[0m\u001b[0;34m\u001b[0m\u001b[0;34m\u001b[0m\u001b[0m\n",
      "\u001b[0;32m~/Coding/Innopolis courses/DMD-2/.venv/lib/python3.7/site-packages/neobolt/direct.py\u001b[0m in \u001b[0;36mon_failure\u001b[0;34m(self, metadata)\u001b[0m\n\u001b[1;32m    746\u001b[0m         \"\"\" Called when a FAILURE message has been received.\n\u001b[1;32m    747\u001b[0m         \"\"\"\n\u001b[0;32m--> 748\u001b[0;31m         \u001b[0mself\u001b[0m\u001b[0;34m.\u001b[0m\u001b[0mconnection\u001b[0m\u001b[0;34m.\u001b[0m\u001b[0mreset\u001b[0m\u001b[0;34m(\u001b[0m\u001b[0;34m)\u001b[0m\u001b[0;34m\u001b[0m\u001b[0;34m\u001b[0m\u001b[0m\n\u001b[0m\u001b[1;32m    749\u001b[0m         \u001b[0mhandler\u001b[0m \u001b[0;34m=\u001b[0m \u001b[0mself\u001b[0m\u001b[0;34m.\u001b[0m\u001b[0mhandlers\u001b[0m\u001b[0;34m.\u001b[0m\u001b[0mget\u001b[0m\u001b[0;34m(\u001b[0m\u001b[0;34m\"on_failure\"\u001b[0m\u001b[0;34m)\u001b[0m\u001b[0;34m\u001b[0m\u001b[0;34m\u001b[0m\u001b[0m\n\u001b[1;32m    750\u001b[0m         \u001b[0;32mif\u001b[0m \u001b[0mcallable\u001b[0m\u001b[0;34m(\u001b[0m\u001b[0mhandler\u001b[0m\u001b[0;34m)\u001b[0m\u001b[0;34m:\u001b[0m\u001b[0;34m\u001b[0m\u001b[0;34m\u001b[0m\u001b[0m\n",
      "\u001b[0;32m~/Coding/Innopolis courses/DMD-2/.venv/lib/python3.7/site-packages/neobolt/direct.py\u001b[0m in \u001b[0;36mreset\u001b[0;34m(self)\u001b[0m\n\u001b[1;32m    382\u001b[0m         \u001b[0mlog_debug\u001b[0m\u001b[0;34m(\u001b[0m\u001b[0;34m\"[#%04X]  C: RESET\"\u001b[0m\u001b[0;34m,\u001b[0m \u001b[0mself\u001b[0m\u001b[0;34m.\u001b[0m\u001b[0mlocal_port\u001b[0m\u001b[0;34m)\u001b[0m\u001b[0;34m\u001b[0m\u001b[0;34m\u001b[0m\u001b[0m\n\u001b[1;32m    383\u001b[0m         \u001b[0mself\u001b[0m\u001b[0;34m.\u001b[0m\u001b[0m_append\u001b[0m\u001b[0;34m(\u001b[0m\u001b[0;34mb\"\\x0F\"\u001b[0m\u001b[0;34m,\u001b[0m \u001b[0mresponse\u001b[0m\u001b[0;34m=\u001b[0m\u001b[0mResponse\u001b[0m\u001b[0;34m(\u001b[0m\u001b[0mself\u001b[0m\u001b[0;34m,\u001b[0m \u001b[0mon_failure\u001b[0m\u001b[0;34m=\u001b[0m\u001b[0mfail\u001b[0m\u001b[0;34m)\u001b[0m\u001b[0;34m)\u001b[0m\u001b[0;34m\u001b[0m\u001b[0;34m\u001b[0m\u001b[0m\n\u001b[0;32m--> 384\u001b[0;31m         \u001b[0mself\u001b[0m\u001b[0;34m.\u001b[0m\u001b[0msync\u001b[0m\u001b[0;34m(\u001b[0m\u001b[0;34m)\u001b[0m\u001b[0;34m\u001b[0m\u001b[0;34m\u001b[0m\u001b[0m\n\u001b[0m\u001b[1;32m    385\u001b[0m \u001b[0;34m\u001b[0m\u001b[0m\n\u001b[1;32m    386\u001b[0m     \u001b[0;32mdef\u001b[0m \u001b[0msend\u001b[0m\u001b[0;34m(\u001b[0m\u001b[0mself\u001b[0m\u001b[0;34m)\u001b[0m\u001b[0;34m:\u001b[0m\u001b[0;34m\u001b[0m\u001b[0;34m\u001b[0m\u001b[0m\n",
      "\u001b[0;32m~/Coding/Innopolis courses/DMD-2/.venv/lib/python3.7/site-packages/neobolt/direct.py\u001b[0m in \u001b[0;36msync\u001b[0;34m(self)\u001b[0m\n\u001b[1;32m    525\u001b[0m             \u001b[0mresponse\u001b[0m \u001b[0;34m=\u001b[0m \u001b[0mself\u001b[0m\u001b[0;34m.\u001b[0m\u001b[0mresponses\u001b[0m\u001b[0;34m[\u001b[0m\u001b[0;36m0\u001b[0m\u001b[0;34m]\u001b[0m\u001b[0;34m\u001b[0m\u001b[0;34m\u001b[0m\u001b[0m\n\u001b[1;32m    526\u001b[0m             \u001b[0;32mwhile\u001b[0m \u001b[0;32mnot\u001b[0m \u001b[0mresponse\u001b[0m\u001b[0;34m.\u001b[0m\u001b[0mcomplete\u001b[0m\u001b[0;34m:\u001b[0m\u001b[0;34m\u001b[0m\u001b[0;34m\u001b[0m\u001b[0m\n\u001b[0;32m--> 527\u001b[0;31m                 \u001b[0mdetail_delta\u001b[0m\u001b[0;34m,\u001b[0m \u001b[0msummary_delta\u001b[0m \u001b[0;34m=\u001b[0m \u001b[0mself\u001b[0m\u001b[0;34m.\u001b[0m\u001b[0mfetch\u001b[0m\u001b[0;34m(\u001b[0m\u001b[0;34m)\u001b[0m\u001b[0;34m\u001b[0m\u001b[0;34m\u001b[0m\u001b[0m\n\u001b[0m\u001b[1;32m    528\u001b[0m                 \u001b[0mdetail_count\u001b[0m \u001b[0;34m+=\u001b[0m \u001b[0mdetail_delta\u001b[0m\u001b[0;34m\u001b[0m\u001b[0;34m\u001b[0m\u001b[0m\n\u001b[1;32m    529\u001b[0m                 \u001b[0msummary_count\u001b[0m \u001b[0;34m+=\u001b[0m \u001b[0msummary_delta\u001b[0m\u001b[0;34m\u001b[0m\u001b[0;34m\u001b[0m\u001b[0m\n",
      "\u001b[0;32m~/Coding/Innopolis courses/DMD-2/.venv/lib/python3.7/site-packages/neobolt/direct.py\u001b[0m in \u001b[0;36mfetch\u001b[0;34m(self)\u001b[0m\n\u001b[1;32m    417\u001b[0m     \u001b[0;32mdef\u001b[0m \u001b[0mfetch\u001b[0m\u001b[0;34m(\u001b[0m\u001b[0mself\u001b[0m\u001b[0;34m)\u001b[0m\u001b[0;34m:\u001b[0m\u001b[0;34m\u001b[0m\u001b[0;34m\u001b[0m\u001b[0m\n\u001b[1;32m    418\u001b[0m         \u001b[0;32mtry\u001b[0m\u001b[0;34m:\u001b[0m\u001b[0;34m\u001b[0m\u001b[0;34m\u001b[0m\u001b[0m\n\u001b[0;32m--> 419\u001b[0;31m             \u001b[0;32mreturn\u001b[0m \u001b[0mself\u001b[0m\u001b[0;34m.\u001b[0m\u001b[0m_fetch\u001b[0m\u001b[0;34m(\u001b[0m\u001b[0;34m)\u001b[0m\u001b[0;34m\u001b[0m\u001b[0;34m\u001b[0m\u001b[0m\n\u001b[0m\u001b[1;32m    420\u001b[0m         \u001b[0;32mexcept\u001b[0m \u001b[0mself\u001b[0m\u001b[0;34m.\u001b[0m\u001b[0merror_handler\u001b[0m\u001b[0;34m.\u001b[0m\u001b[0mknown_errors\u001b[0m \u001b[0;32mas\u001b[0m \u001b[0merror\u001b[0m\u001b[0;34m:\u001b[0m\u001b[0;34m\u001b[0m\u001b[0;34m\u001b[0m\u001b[0m\n\u001b[1;32m    421\u001b[0m             \u001b[0mself\u001b[0m\u001b[0;34m.\u001b[0m\u001b[0merror_handler\u001b[0m\u001b[0;34m.\u001b[0m\u001b[0mhandle\u001b[0m\u001b[0;34m(\u001b[0m\u001b[0merror\u001b[0m\u001b[0;34m,\u001b[0m \u001b[0mself\u001b[0m\u001b[0;34m.\u001b[0m\u001b[0munresolved_address\u001b[0m\u001b[0;34m)\u001b[0m\u001b[0;34m\u001b[0m\u001b[0;34m\u001b[0m\u001b[0m\n",
      "\u001b[0;32m~/Coding/Innopolis courses/DMD-2/.venv/lib/python3.7/site-packages/neobolt/direct.py\u001b[0m in \u001b[0;36m_fetch\u001b[0;34m(self)\u001b[0m\n\u001b[1;32m    438\u001b[0m             \u001b[0;32mreturn\u001b[0m \u001b[0;36m0\u001b[0m\u001b[0;34m,\u001b[0m \u001b[0;36m0\u001b[0m\u001b[0;34m\u001b[0m\u001b[0;34m\u001b[0m\u001b[0m\n\u001b[1;32m    439\u001b[0m \u001b[0;34m\u001b[0m\u001b[0m\n\u001b[0;32m--> 440\u001b[0;31m         \u001b[0mself\u001b[0m\u001b[0;34m.\u001b[0m\u001b[0m_receive\u001b[0m\u001b[0;34m(\u001b[0m\u001b[0;34m)\u001b[0m\u001b[0;34m\u001b[0m\u001b[0;34m\u001b[0m\u001b[0m\n\u001b[0m\u001b[1;32m    441\u001b[0m \u001b[0;34m\u001b[0m\u001b[0m\n\u001b[1;32m    442\u001b[0m         \u001b[0mdetails\u001b[0m\u001b[0;34m,\u001b[0m \u001b[0msummary_signature\u001b[0m\u001b[0;34m,\u001b[0m \u001b[0msummary_metadata\u001b[0m \u001b[0;34m=\u001b[0m \u001b[0mself\u001b[0m\u001b[0;34m.\u001b[0m\u001b[0m_unpack\u001b[0m\u001b[0;34m(\u001b[0m\u001b[0;34m)\u001b[0m\u001b[0;34m\u001b[0m\u001b[0;34m\u001b[0m\u001b[0m\n",
      "\u001b[0;32m~/Coding/Innopolis courses/DMD-2/.venv/lib/python3.7/site-packages/neobolt/direct.py\u001b[0m in \u001b[0;36m_receive\u001b[0;34m(self)\u001b[0m\n\u001b[1;32m    485\u001b[0m                 \u001b[0;32mif\u001b[0m \u001b[0misinstance\u001b[0m\u001b[0;34m(\u001b[0m\u001b[0mresponse\u001b[0m\u001b[0;34m,\u001b[0m \u001b[0mCommitResponse\u001b[0m\u001b[0;34m)\u001b[0m\u001b[0;34m:\u001b[0m\u001b[0;34m\u001b[0m\u001b[0;34m\u001b[0m\u001b[0m\n\u001b[1;32m    486\u001b[0m                     \u001b[0;32mraise\u001b[0m \u001b[0mIncompleteCommitError\u001b[0m\u001b[0;34m(\u001b[0m\u001b[0mmessage\u001b[0m\u001b[0;34m)\u001b[0m\u001b[0;34m\u001b[0m\u001b[0;34m\u001b[0m\u001b[0m\n\u001b[0;32m--> 487\u001b[0;31m             \u001b[0;32mraise\u001b[0m \u001b[0mself\u001b[0m\u001b[0;34m.\u001b[0m\u001b[0mError\u001b[0m\u001b[0;34m(\u001b[0m\u001b[0mmessage\u001b[0m\u001b[0;34m)\u001b[0m\u001b[0;34m\u001b[0m\u001b[0;34m\u001b[0m\u001b[0m\n\u001b[0m\u001b[1;32m    488\u001b[0m         \u001b[0;32melif\u001b[0m \u001b[0mreceived\u001b[0m \u001b[0;34m==\u001b[0m \u001b[0;34m-\u001b[0m\u001b[0;36m1\u001b[0m\u001b[0;34m:\u001b[0m\u001b[0;34m\u001b[0m\u001b[0;34m\u001b[0m\u001b[0m\n\u001b[1;32m    489\u001b[0m             \u001b[0;32mraise\u001b[0m \u001b[0mKeyboardInterrupt\u001b[0m\u001b[0;34m(\u001b[0m\u001b[0;34m)\u001b[0m\u001b[0;34m\u001b[0m\u001b[0;34m\u001b[0m\u001b[0m\n",
      "\u001b[0;31mServiceUnavailable\u001b[0m: Failed to read from defunct connection Address(host='localhost', port=7687) (Address(host='127.0.0.1', port=7687))"
     ],
     "ename": "ServiceUnavailable",
     "evalue": "Failed to read from defunct connection Address(host='localhost', port=7687) (Address(host='127.0.0.1', port=7687))",
     "output_type": "error"
    }
   ],
   "source": [
    "print(\"Please, be patient, following steps might take up to 10 minutes in total\")\n",
    "transfer_table(driver, cursor, \"rental\",\n",
    "               \"rental_id\", \"rental_date\", \"inventory_id\", \"customer_id\", \"return_date\", \"staff_id\", \"last_update\",\n",
    "               relationships=[(\"rental\", \"inventory\", \"RENTS\"), \n",
    "                              (\"rental\", \"customer\", \"RENTED_TO\"),\n",
    "                              (\"rental\", \"staff\", \"RENTED_BY\")])"
   ],
   "metadata": {
    "collapsed": false,
    "pycharm": {
     "name": "#%%\n",
     "is_executing": false
    }
   }
  },
  {
   "cell_type": "markdown",
   "source": [
    "## Payment\n",
    "Also long step"
   ],
   "metadata": {
    "collapsed": false,
    "pycharm": {
     "name": "#%% md\n"
    }
   }
  },
  {
   "cell_type": "code",
   "execution_count": null,
   "outputs": [],
   "source": [
    "transfer_table(driver, cursor, \"payment\",\n",
    "               \"payment_id\", \"customer_id\", \"staff_id\", \"rental_id\", \"amount\", \"payment_date\",\n",
    "               relationships=[(\"payment\", \"customer\", \"PAID_BY\"), \n",
    "                              (\"payment\", \"staff\", \"ACCEPTED_BY\"),\n",
    "                              (\"payment\", \"rental\", \"PAID_FOR\")])"
   ],
   "metadata": {
    "collapsed": false,
    "pycharm": {
     "name": "#%%\n",
     "is_executing": false
    }
   }
  },
  {
   "cell_type": "code",
   "execution_count": 22,
   "outputs": [
    {
     "name": "stdout",
     "text": [
      "1.210146188735962\n"
     ],
     "output_type": "stream"
    }
   ],
   "source": [
    "def proper_type(column_name:str, column_type:str) -> str:\n",
    "    if column_type in [\"integer\", \"int\", \"smallint\", \"bigint\"]:\n",
    "        return f\"toInteger(row.{column_name})\"\n",
    "    elif column_type in [\"numeric\", \"float\", \"decimal\"]:\n",
    "        return f\"toFloat(row.{column_name})\"\n",
    "    elif column_type in [\"boolean\"]:\n",
    "        return f\"toBoolean(row.{column_name})\"\n",
    "    elif column_type in [\"date\"]:\n",
    "        return f'apoc.date.parse(row.{column_name}, \\'s\\', \"yyyy-MM-dd\")'\n",
    "    elif column_type.startswith(\"timestamp\"):\n",
    "        return f\"apoc.date.parse(row.{column_name})\"\n",
    "    else:\n",
    "        return f\"row.{column_name}\"\n",
    "\n",
    "def print_transfer(table_name:str):\n",
    "    export = f\"copy {table_name} to '/export/{table_name}.csv' DELIMITER ',' CSV HEADER;\"\n",
    "    cursor.execute(export)\n",
    "    import_statement = \"USING PERIODIC COMMIT\\n\" \\\n",
    "                       f\"LOAD CSV WITH HEADERS FROM 'file:/{table_name}.csv' AS row\\n\" \\\n",
    "                       f\"MERGE ({table_name.lower()}: {table_name.capitalize()} {{{table_name.lower()}_id:toInteger(row.{table_name.lower()}_id)}})\\n\" \\\n",
    "                       \"\\tON CREATE SET\\n\"\n",
    "\n",
    "    cursor.execute(\"select column_name, data_type from INFORMATION_SCHEMA.COLUMNS where table_name = %s ;\", (table_name,))\n",
    "    \n",
    "    props = []\n",
    "    for column in cursor.fetchall():\n",
    "        column_name, column_type = column\n",
    "        if column_name.endswith(\"_id\"):\n",
    "            continue\n",
    "        props.append(f\"{table_name}.{column_name} = {proper_type(column_name, column_type)}\")\n",
    "    \n",
    "    return import_statement + \"\\t\\t{data};\".format(data=\",\\n\\t\\t\".join(props))\n",
    "\n",
    "tables = [\"category\", \"film\", \"language\", \"actor\", \"staff\",\n",
    "          \"payment\", \"rental\", \"inventory\",\n",
    "          \"customer\", \"address\", \"city\", \"country\", \"store\"]\n",
    "\n",
    "from time import time\n",
    "start = time()\n",
    "with driver.session() as session:\n",
    "    for table in tables:\n",
    "        session.run(print_transfer(table))\n",
    "        # session.run(f\"CREATE INDEX ON :{table.capitalize()} ({table.lower()}_id)\")\n",
    "print(time()-start)\n",
    "\n",
    "# print(\"\\n\\n\\n\"\n",
    "#       \"\\n\".join([print_transfer(x) for x in tables]))"
   ],
   "metadata": {
    "collapsed": false,
    "pycharm": {
     "name": "#%%\n",
     "is_executing": false
    }
   }
  },
  {
   "cell_type": "code",
   "execution_count": 23,
   "outputs": [
    {
     "name": "stdout",
     "text": [
      "USING PERIODIC COMMIT\n",
      "LOAD CSV WITH HEADERS FROM 'file:/film_category.csv' AS row\n",
      "MATCH ( film :Film { film_id: toInteger(row.film_id) })\n",
      "MATCH ( category   :Category { category_id: toInteger(row.category_id) })\n",
      "MERGE ( film) - [:IN_CATEGORY{ last_update: apoc.date.parse(row.last_update) }] -> (category);\n",
      "\n",
      "USING PERIODIC COMMIT\n",
      "LOAD CSV WITH HEADERS FROM 'file:/film_actor.csv' AS row\n",
      "MATCH ( actor :Actor { actor_id: toInteger(row.actor_id) })\n",
      "MATCH ( film   :Film { film_id: toInteger(row.film_id) })\n",
      "MERGE ( actor) - [:FILMED_IN{ last_update: apoc.date.parse(row.last_update) }] -> (film);\n"
     ],
     "output_type": "stream"
    }
   ],
   "source": [
    "def many2many(table_name:str, from_table:str, to_table:str, rel_name:str):\n",
    "    export = f\"copy {table_name} to '/export/{table_name}.csv' DELIMITER ',' CSV HEADER;\"\n",
    "    cursor.execute(export)\n",
    "    cursor.execute(\"select column_name, data_type from INFORMATION_SCHEMA.COLUMNS where table_name = %s ;\", (table_name,))\n",
    "    \n",
    "    props = []\n",
    "    for column in cursor.fetchall():\n",
    "        column_name, column_type = column\n",
    "        if column_name.endswith(\"_id\"):\n",
    "            continue\n",
    "        props.append(f\"{column_name}: {proper_type(column_name, column_type)}\")\n",
    "        \n",
    "    import_statement = \"USING PERIODIC COMMIT\\n\" \\\n",
    "                       f\"LOAD CSV WITH HEADERS FROM 'file:/{table_name}.csv' AS row\\n\" \\\n",
    "                       f\"MATCH ( {from_table} :{from_table.capitalize()} {{ {from_table}_id: {proper_type(f'{from_table}_id', 'int')} }})\\n\" \\\n",
    "                       f\"MATCH ( {to_table}   :{to_table.capitalize()} {{ {to_table}_id: {proper_type(f'{to_table}_id', 'int')} }})\\n\" \\\n",
    "                       f\"MERGE ( {from_table}) - [:{rel_name.upper()}{{ {','.join(props)} }}] -> ({to_table});\"\n",
    "    print(import_statement)\n",
    "\n",
    "many2many(\"film_category\", \"film\", \"category\", \"IN_CATEGORY\")\n",
    "print(\"\")\n",
    "many2many(\"film_actor\", \"actor\", \"film\", \"FILMED_IN\")"
   ],
   "metadata": {
    "collapsed": false,
    "pycharm": {
     "name": "#%%\n",
     "is_executing": false
    }
   }
  },
  {
   "cell_type": "code",
   "execution_count": 26,
   "outputs": [
    {
     "name": "stdout",
     "text": [
      "8.670267343521118\n"
     ],
     "output_type": "stream"
    }
   ],
   "source": [
    "from time import time\n",
    "def transfer_relation(table_name:str, to_table:str, rel_name:str, last_update_to_rel: bool = True, fk:Optional[str] = None):\n",
    "    if fk is None:\n",
    "        fk = f\"{to_table}_id\"\n",
    "    export = f\"copy (select {table_name}_id, {fk} as {to_table}_id \" \\\n",
    "             f\"{', last_update' if last_update_to_rel else ''}\" \\\n",
    "             f\" from {table_name}) to '/export/{table_name}_{to_table}_rel.csv' DELIMITER ',' CSV HEADER;\"\n",
    "    cursor.execute(export)\n",
    "    \n",
    "    props = []\n",
    "    if last_update_to_rel:\n",
    "        props.append(f\"last_update: {proper_type('last_update', 'timestamp')}\")\n",
    "    \n",
    "    import_statement = \"USING PERIODIC COMMIT\\n\" \\\n",
    "                       f\"LOAD CSV WITH HEADERS FROM 'file:/{table_name}_{to_table}_rel.csv' AS row\\n\" \\\n",
    "                       f\"MATCH ( {table_name} :{table_name.capitalize()} {{ {table_name}_id: {proper_type(f'{table_name}_id', 'int')} }})\\n\" \\\n",
    "                       f\"MATCH ( {to_table}   :{to_table.capitalize()} {{ {to_table}_id: {proper_type(f'{to_table}_id', 'int')} }})\\n\" \\\n",
    "                       f\"MERGE ( {table_name}) - [:{rel_name.upper()}{{ {','.join(props)} }}] -> ({to_table});\"\n",
    "    # print(import_statement)\n",
    "    with driver.session() as session:\n",
    "        session.run(import_statement)\n",
    "\n",
    "start = time()\n",
    "transfer_relation(\"film\", \"language\", \"IN_LANGUAGE\")\n",
    "transfer_relation(\"inventory\", \"film\", \"RENTS_FILM\")\n",
    "transfer_relation(\"rental\", \"inventory\", \"RENTS\")\n",
    "transfer_relation(\"rental\", \"customer\", \"RENTED_TO\")\n",
    "transfer_relation(\"rental\", \"staff\", \"RENTED_BY\")\n",
    "transfer_relation(\"payment\", \"rental\", \"PAID_FOR\", last_update_to_rel=False)\n",
    "transfer_relation(\"payment\", \"customer\", \"PAID_BY\", last_update_to_rel=False)\n",
    "# transfer_relation(\"payment\", \"staff\", \"ACCEPTED_BY\", last_update_to_rel=False)\n",
    "transfer_relation(\"customer\", \"address\", \"LIVES_AT\")\n",
    "transfer_relation(\"staff\", \"address\", \"LIVES_AT\")\n",
    "transfer_relation(\"store\", \"address\", \"LOCATED_AT\")\n",
    "transfer_relation(\"address\", \"city\", \"SITUATED_IN\")\n",
    "transfer_relation(\"city\", \"country\", \"SITUATED_IN\")\n",
    "transfer_relation(\"store\", \"staff\", \"MANAGED_BY\", fk=\"manager_staff_id\")\n",
    "\n",
    "\n",
    "print(time()-start)"
   ],
   "metadata": {
    "collapsed": false,
    "pycharm": {
     "name": "#%%\n",
     "is_executing": false
    }
   }
  }
 ],
 "metadata": {
  "kernelspec": {
   "display_name": "Python 3",
   "language": "python",
   "name": "python3"
  },
  "language_info": {
   "codemirror_mode": {
    "name": "ipython",
    "version": 3
   },
   "file_extension": ".py",
   "mimetype": "text/x-python",
   "name": "python",
   "nbconvert_exporter": "python",
   "pygments_lexer": "ipython3",
   "version": "3.7.6"
  },
  "pycharm": {
   "stem_cell": {
    "cell_type": "raw",
    "source": [],
    "metadata": {
     "collapsed": false
    }
   }
  }
 },
 "nbformat": 4,
 "nbformat_minor": 1
}