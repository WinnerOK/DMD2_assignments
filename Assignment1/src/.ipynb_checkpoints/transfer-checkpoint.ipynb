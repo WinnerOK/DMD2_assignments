{
 "cells": [
  {
   "cell_type": "markdown",
   "metadata": {
    "pycharm": {
     "name": "#%% md\n"
    }
   },
   "source": [
    "# Problems:\n",
    "* Decimal is unsupported -> convertion to float"
   ]
  },
  {
   "cell_type": "code",
   "execution_count": 1,
   "metadata": {
    "collapsed": true,
    "pycharm": {
     "is_executing": false
    }
   },
   "outputs": [],
   "source": [
    "from neo4j import GraphDatabase, DirectDriver\n",
    "\n",
    "NEO_LOGIN = \"neo4j\"\n",
    "NEO_PASSWORD = \"bitnami\"\n",
    "\n",
    "uri = \"bolt://localhost:7687\"\n",
    "driver = GraphDatabase.driver(uri, auth=(NEO_LOGIN, NEO_PASSWORD))\n",
    "\n",
    "\n"
   ]
  },
  {
   "cell_type": "code",
   "execution_count": 2,
   "metadata": {
    "pycharm": {
     "is_executing": false,
     "name": "#%%\n"
    }
   },
   "outputs": [],
   "source": [
    "import psycopg2\n",
    "\n",
    "PG_LOGIN = \"DMD2user\"\n",
    "PG_PASS = \"DMD2pgPass\"\n",
    "PG_DB = \"dvdrental\"\n",
    "\n",
    "con = psycopg2.connect(database=PG_DB, user=PG_LOGIN,\n",
    "                       password=PG_PASS, host=\"localhost\", port=\"5432\")\n",
    "\n",
    "cursor = con.cursor()"
   ]
  },
  {
   "cell_type": "code",
   "execution_count": 3,
   "metadata": {
    "pycharm": {
     "is_executing": false,
     "name": "#%%\n"
    }
   },
   "outputs": [],
   "source": [
    "from typing import List, Tuple, Optional\n",
    "\n",
    "steps = 100\n",
    "current_step = 1\n",
    "\n",
    "def report(obj_name: str):\n",
    "    global steps, current_step\n",
    "    print(f\"{obj_name} done: {current_step}/{steps}\")\n",
    "    current_step += 1\n",
    "\n",
    "def transfer_table(driver: DirectDriver, cursor, tablename: str, *args, relationships: Optional[List[Tuple[str]]] = None):\n",
    "    def make_label(s:str) -> str:\n",
    "        return s.capitalize()\n",
    "    \n",
    "    def make_var(s:str) -> str:\n",
    "        return s[0].lower()\n",
    "    \n",
    "    label = make_label(tablename)\n",
    "    var = make_var(tablename)\n",
    "    insert_statement = f\"CREATE ({var}: {label} {{ {', '.join([f'{prop}: ${prop}' for prop in args])} }})\"\n",
    "    sql_query = f\"select {', '.join(args)} from {tablename}\"\n",
    "    unique = f\"CREATE CONSTRAINT ON ({var}: {label}) ASSERT {var}.{tablename.lower()}_id IS UNIQUE\"\n",
    "\n",
    "    relation = \"MATCH ({var_from}:{label_from}), ({var_to}:{label_to}) WHERE \" \\\n",
    "               \"{var_from}.{table_from}_id = ${table_from}_id  AND {var_to}.{table_to}_id = ${table_to}_id \" \\\n",
    "               \"CREATE ({var_from}) - [r:{relation_name}] -> ({var_to})\"    \n",
    "    \n",
    "    cursor.execute(sql_query)\n",
    "    with driver.session() as session:\n",
    "        tx = session.begin_transaction()\n",
    "        \n",
    "        for row in cursor.fetchall():\n",
    "            data = dict(zip(args, row))\n",
    "            tx.run(insert_statement, data)\n",
    "            \n",
    "            if relationships is not None:\n",
    "                for relationship in relationship:\n",
    "                    tx.run(relation.format(\n",
    "                        table_from=relationship[0], table_to=relationship[1],\n",
    "                        var_from=make_var(relationship[0]), var_to=make_var(relationship[1]),\n",
    "                        label_from=make_label(relationship[0]), label_to=make_label(relationship[1])\n",
    "                    ), data)\n",
    "            \n",
    "        tx.sync()\n",
    "        tx.commit()\n",
    "        session.run(unique)\n",
    "    report(tablename)\n",
    "    \n",
    "    # print(f\"CREATE ({tablename[0].lower()}: {tablename.capitalize()} {{ {', '.join([f'{prop}: ${prop}' for prop in args])} }})\")\n",
    "    # print(f\"select {', '.join(args)} from {tablename}\")\n",
    "    # print(dict(zip(args, row)))\n"
   ]
  },
  {
   "cell_type": "markdown",
   "metadata": {
    "pycharm": {
     "name": "#%% md\n"
    }
   },
   "source": [
    "Connected to db\n",
    "# Start transfer\n",
    "## Category"
   ]
  },
  {
   "cell_type": "code",
   "execution_count": 10,
   "metadata": {
    "pycharm": {
     "is_executing": false,
     "name": "#%%\n"
    }
   },
   "outputs": [
    {
     "name": "stdout",
     "output_type": "stream",
     "text": [
      "category done: 1/100\n"
     ]
    }
   ],
   "source": [
    "# template = \"CREATE (c:Category {category_id: $category_id, name: $name, last_update: $last_update})\"\n",
    "# \n",
    "# cursor.execute(\"\"\"select category_id, name, last_update from category\"\"\")\n",
    "# with driver.session() as session:\n",
    "#     tx = session.begin_transaction()\n",
    "#     \n",
    "#     for row in cursor.fetchall():\n",
    "#         category_id, name, last_update = row\n",
    "#         tx.run(template, category_id=category_id, name=name, last_update=last_update)\n",
    "#     \n",
    "#     tx.sync()\n",
    "#     tx.commit()\n",
    "#     session.run(\"CREATE CONSTRAINT ON (c:Category) ASSERT c.category_id IS UNIQUE\")\n",
    "# report(\"Category\")\n",
    "transfer_table(driver, cursor, \"category\", \"category_id\", \"name\", \"last_update\")"
   ]
  },
  {
   "cell_type": "markdown",
   "metadata": {},
   "source": [
    "## Language"
   ]
  },
  {
   "cell_type": "code",
   "execution_count": 12,
   "metadata": {
    "pycharm": {
     "is_executing": false,
     "name": "#%%\n"
    }
   },
   "outputs": [
    {
     "name": "stdout",
     "output_type": "stream",
     "text": [
      "language done: 1/100\n"
     ]
    }
   ],
   "source": [
    "# template = \"\"\"CREATE (l:Language {language_id: $language_id, name: $name, last_update: $last_update})\"\"\"\n",
    "# \n",
    "# cursor.execute(\"\"\"select language_id, name, last_update from language;\"\"\")\n",
    "# with driver.session() as session:\n",
    "#     tx = session.begin_transaction()\n",
    "#     for row in cursor.fetchall():\n",
    "#         \n",
    "#         language_id, name, last_update = row\n",
    "#         tx.run(template, name=name, language_id=language_id, last_update=last_update)\n",
    "#     \n",
    "#     tx.sync()\n",
    "#     tx.commit()\n",
    "# report(\"Language\")\n",
    "transfer_table(driver, cursor, \"language\", \"language_id\", \"name\", \"last_update\")"
   ]
  },
  {
   "cell_type": "markdown",
   "metadata": {
    "pycharm": {
     "is_executing": false,
     "name": "#%% md\n"
    }
   },
   "source": [
    "## Film + Film-language connection"
   ]
  },
  {
   "cell_type": "code",
   "execution_count": 29,
   "metadata": {
    "pycharm": {
     "is_executing": false,
     "name": "#%%\n"
    }
   },
   "outputs": [
    {
     "name": "stdout",
     "output_type": "stream",
     "text": [
      "Film done: 3/100\n",
      "Film-Language done: 4/100\n"
     ]
    }
   ],
   "source": [
    "# template = \"\"\"CREATE (f: Film {\n",
    "# film_id: $film_id,\n",
    "# title: $title,\n",
    "# description: $description,\n",
    "# release_year: $release_year,\n",
    "# rental_duration: $rental_duration,\n",
    "# rental_rate: $rental_rate,\n",
    "# length: $length,\n",
    "# replacement_cost: $replacement_cost,\n",
    "# rating: $rating,\n",
    "# last_update: $last_update,\n",
    "# special_features: $special_features,\n",
    "# fulltext: $fulltext\n",
    "# })\"\"\"\n",
    "\n",
    "# language_connect_template = \"\"\"MATCH (l:Language), (f:Film) WHERE \n",
    "# l.language_id = $language_id AND f.film_id= $film_id \n",
    "# CREATE (f)-[r:IN_LANGUAGE] -> (l)\"\"\"\n",
    "\n",
    "# cursor.execute(\"\"\"\n",
    "# select film_id, title, description, release_year, rental_duration, rental_rate, length, \n",
    "# replacement_cost, rating, last_update, special_features, fulltext, language_id from film;\n",
    "# \"\"\")\n",
    "# with driver.session() as session:\n",
    "#     tx = session.begin_transaction()\n",
    "#     for row in cursor.fetchall():\n",
    "#         film_id, title, description, release_year, rental_duration, rental_rate, length, \\\n",
    "#         replacement_cost, rating, last_update, special_features, fulltext, language_id = row\n",
    "        \n",
    "#         tx.run(template, film_id=film_id, title=title, description=description, release_year=release_year, \n",
    "#                rental_duration=rental_duration, rental_rate=float(rental_rate), length=length, \n",
    "#                replacement_cost=float(replacement_cost), rating=rating, last_update=last_update, \n",
    "#                special_features=special_features, fulltext=fulltext )\n",
    "#         tx.run(language_connect_template, film_id=film_id, language_id=language_id)\n",
    "#     tx.sync()\n",
    "#     tx.commit()\n",
    "#     session.run(\"CREATE CONSTRAINT ON (f:Film) ASSERT f.film_id IS UNIQUE\")\n",
    "# report(\"Film\")\n",
    "# report(\"Film-Language\")\n"
   ]
  },
  {
   "cell_type": "markdown",
   "metadata": {},
   "source": [
    "## Category-Film"
   ]
  },
  {
   "cell_type": "code",
   "execution_count": 30,
   "metadata": {
    "pycharm": {
     "is_executing": false,
     "name": "#%%\n"
    }
   },
   "outputs": [
    {
     "name": "stdout",
     "output_type": "stream",
     "text": [
      "Film-Category connection done: 5/100\n"
     ]
    }
   ],
   "source": [
    "template = \"\"\"MATCH (c:Category), (f:Film) WHERE \n",
    "c.category_id = $category_id AND f.film_id= $film_id \n",
    "CREATE (f)-[r:IN_CATEGORY{last_update: $last_update}] -> (c)\"\"\"\n",
    "\n",
    "cursor.execute(\"\"\"select film_id, category_id, last_update from film_category\"\"\")\n",
    "with driver.session() as session:\n",
    "    tx = session.begin_transaction()\n",
    "    for row in cursor.fetchall():\n",
    "        film_id, category_id, last_update = row\n",
    "        tx.run(template, film_id=film_id, category_id=category_id, last_update=last_update)\n",
    "    tx.sync()\n",
    "    tx.commit()\n",
    "report(\"Film-Category connection\")\n"
   ]
  },
  {
   "cell_type": "markdown",
   "metadata": {},
   "source": [
    "## Actor"
   ]
  },
  {
   "cell_type": "code",
   "execution_count": 31,
   "metadata": {
    "pycharm": {
     "is_executing": false,
     "name": "#%%\n"
    }
   },
   "outputs": [
    {
     "name": "stdout",
     "output_type": "stream",
     "text": [
      "Actor done: 6/100\n"
     ]
    }
   ],
   "source": [
    "template = \"CREATE (a:Actor {actor_id: $actor_id, first_name: $first_name, last_name: $last_name, last_update: $last_update})\"\n",
    "\n",
    "cursor.execute(\"\"\"select actor_id, first_name, last_name, last_update from actor;\"\"\")\n",
    "with driver.session() as session:\n",
    "    tx = session.begin_transaction()\n",
    "    \n",
    "    for row in cursor.fetchall():\n",
    "        actor_id, first_name, last_name, last_update = row\n",
    "        tx.run(template, actor_id=actor_id, first_name=first_name, last_name=last_name, last_update=last_update, )\n",
    "    \n",
    "    tx.sync()\n",
    "    tx.commit()\n",
    "    session.run(\"CREATE CONSTRAINT ON (a:Actor) ASSERT a.actor_id IS UNIQUE\")\n",
    "report(\"Actor\")\n"
   ]
  },
  {
   "cell_type": "markdown",
   "metadata": {},
   "source": [
    "## Actor->Film connection"
   ]
  },
  {
   "cell_type": "code",
   "execution_count": 32,
   "metadata": {
    "pycharm": {
     "is_executing": false,
     "name": "#%%\n"
    }
   },
   "outputs": [
    {
     "name": "stdout",
     "output_type": "stream",
     "text": [
      "Actor-Film connection done: 7/100\n"
     ]
    }
   ],
   "source": [
    "template = \"\"\"MATCH (a:Actor), (f:Film) WHERE \n",
    "a.actor_id = $actor_id AND f.film_id= $film_id \n",
    "CREATE (a)-[r:FILMED_IN{last_update: $last_update}] -> (f)\"\"\"\n",
    "\n",
    "cursor.execute(\"\"\"select actor_id, film_id, last_update from film_actor\"\"\")\n",
    "with driver.session() as session:\n",
    "    tx = session.begin_transaction()\n",
    "    for row in cursor.fetchall():\n",
    "        actor_id, film_id, last_update = row\n",
    "        tx.run(template, film_id=film_id, actor_id=actor_id, last_update=last_update)\n",
    "    tx.sync()\n",
    "    tx.commit()\n",
    "report(\"Actor-Film connection\")"
   ]
  },
  {
   "cell_type": "markdown",
   "metadata": {
    "pycharm": {
     "name": "#%% md\n"
    }
   },
   "source": [
    "## Inventory + film<-inventory"
   ]
  },
  {
   "cell_type": "code",
   "execution_count": 35,
   "metadata": {
    "pycharm": {
     "is_executing": false,
     "name": "#%%\n"
    }
   },
   "outputs": [
    {
     "name": "stdout",
     "output_type": "stream",
     "text": [
      "Inventory done: 9/100\n",
      "Inventory->film done: 10/100\n"
     ]
    }
   ],
   "source": [
    "template = \"CREATE (i:Inventory {inventory_id: $inventory_id, \" \\\n",
    "           \"store_id: $store_id, last_update: $last_update})\"\n",
    "\n",
    "film_inventory_template = \"\"\"MATCH (i:Inventory), (f:Film) WHERE \n",
    "i.inventory_id = $inventory_id AND f.film_id= $film_id \n",
    "CREATE (i)-[r:USED_IN] -> (f)\"\"\"\n",
    "\n",
    "cursor.execute(\"\"\"select inventory_id, film_id, store_id, last_update from inventory\"\"\")\n",
    "with driver.session() as session:\n",
    "    tx = session.begin_transaction()\n",
    "    \n",
    "    for row in cursor.fetchall():\n",
    "        inventory_id, film_id, store_id, last_update = row\n",
    "        tx.run(template, inventory_id=inventory_id, store_id=store_id, last_update=last_update )\n",
    "        \n",
    "        tx.run(film_inventory_template, inventory_id=inventory_id, film_id=film_id)\n",
    "        \n",
    "    tx.sync()\n",
    "    tx.commit()\n",
    "    session.run(\"CREATE CONSTRAINT ON (i:Inventory) ASSERT i.inventory_id IS UNIQUE\")\n",
    "report(\"Inventory\")\n",
    "report(\"Inventory->film\")"
   ]
  },
  {
   "cell_type": "markdown",
   "metadata": {
    "pycharm": {
     "name": "#%% md\n"
    }
   },
   "source": [
    "## Country"
   ]
  },
  {
   "cell_type": "code",
   "execution_count": null,
   "metadata": {
    "pycharm": {
     "name": "#%%\n"
    }
   },
   "outputs": [],
   "source": [
    "transfer_table(driver, cursor, \"country\", \"country_id\", \"country\", \"last_update\")\n"
   ]
  },
  {
   "cell_type": "code",
   "execution_count": 7,
   "metadata": {
    "pycharm": {
     "is_executing": false,
     "name": "#%%\n"
    }
   },
   "outputs": [
    {
     "ename": "NameError",
     "evalue": "name 'report' is not defined",
     "output_type": "error",
     "traceback": [
      "\u001b[0;31m---------------------------------------------------------------------------\u001b[0m",
      "\u001b[0;31mNameError\u001b[0m                                 Traceback (most recent call last)",
      "\u001b[0;32m<ipython-input-7-379ed9f2b268>\u001b[0m in \u001b[0;36m<module>\u001b[0;34m\u001b[0m\n\u001b[0;32m----> 1\u001b[0;31m \u001b[0mtransfer_table\u001b[0m\u001b[0;34m(\u001b[0m\u001b[0mdriver\u001b[0m\u001b[0;34m,\u001b[0m \u001b[0mcursor\u001b[0m\u001b[0;34m,\u001b[0m \u001b[0;34m\"country\"\u001b[0m\u001b[0;34m,\u001b[0m \u001b[0;34m\"country_id\"\u001b[0m\u001b[0;34m,\u001b[0m \u001b[0;34m\"country\"\u001b[0m\u001b[0;34m,\u001b[0m \u001b[0;34m\"last_update\"\u001b[0m\u001b[0;34m)\u001b[0m\u001b[0;34m\u001b[0m\u001b[0;34m\u001b[0m\u001b[0m\n\u001b[0m",
      "\u001b[0;32m<ipython-input-6-245da87685fd>\u001b[0m in \u001b[0;36mtransfer_table\u001b[0;34m(driver, cursor, tablename, *args)\u001b[0m\n\u001b[1;32m     13\u001b[0m         \u001b[0mtx\u001b[0m\u001b[0;34m.\u001b[0m\u001b[0mcommit\u001b[0m\u001b[0;34m(\u001b[0m\u001b[0;34m)\u001b[0m\u001b[0;34m\u001b[0m\u001b[0;34m\u001b[0m\u001b[0m\n\u001b[1;32m     14\u001b[0m         \u001b[0msession\u001b[0m\u001b[0;34m.\u001b[0m\u001b[0mrun\u001b[0m\u001b[0;34m(\u001b[0m\u001b[0munique\u001b[0m\u001b[0;34m)\u001b[0m\u001b[0;34m\u001b[0m\u001b[0;34m\u001b[0m\u001b[0m\n\u001b[0;32m---> 15\u001b[0;31m     \u001b[0mreport\u001b[0m\u001b[0;34m(\u001b[0m\u001b[0mtablename\u001b[0m\u001b[0;34m)\u001b[0m\u001b[0;34m\u001b[0m\u001b[0;34m\u001b[0m\u001b[0m\n\u001b[0m\u001b[1;32m     16\u001b[0m \u001b[0;34m\u001b[0m\u001b[0m\n\u001b[1;32m     17\u001b[0m     \u001b[0;31m# print(f\"CREATE ({tablename[0].lower()}: {tablename.capitalize()} {{ {', '.join([f'{prop}: ${prop}' for prop in args])} }})\")\u001b[0m\u001b[0;34m\u001b[0m\u001b[0;34m\u001b[0m\u001b[0;34m\u001b[0m\u001b[0m\n",
      "\u001b[0;31mNameError\u001b[0m: name 'report' is not defined"
     ]
    }
   ],
   "source": []
  }
 ],
 "metadata": {
  "kernelspec": {
   "display_name": "Python 3",
   "language": "python",
   "name": "python3"
  },
  "language_info": {
   "codemirror_mode": {
    "name": "ipython",
    "version": 3
   },
   "file_extension": ".py",
   "mimetype": "text/x-python",
   "name": "python",
   "nbconvert_exporter": "python",
   "pygments_lexer": "ipython3",
   "version": "3.7.6"
  },
  "pycharm": {
   "stem_cell": {
    "cell_type": "raw",
    "metadata": {
     "collapsed": false
    },
    "source": []
   }
  }
 },
 "nbformat": 4,
 "nbformat_minor": 1
}
